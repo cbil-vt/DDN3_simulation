{
 "cells": [
  {
   "cell_type": "markdown",
   "metadata": {},
   "source": [
    "# Parameter estimation sensitivity"
   ]
  },
  {
   "cell_type": "code",
   "execution_count": 1,
   "metadata": {},
   "source": [
    "import numpy as np\n",
    "import matplotlib.pyplot as plt\n",
    "import networkx as nx\n",
    "from ddn3 import tools, parameter_tuning\n",
    "import simulation_rev as sim\n",
    "\n",
    "%load_ext autoreload\n",
    "%autoreload 2"
   ],
   "outputs": []
  },
  {
   "cell_type": "code",
   "execution_count": 2,
   "metadata": {},
   "source": [
    "def make_graph():\n",
    "    # Structures of the directly graph\n",
    "    graph_ba_di = sim.barabasi_albert_digraph(41)\n",
    "    for edge in graph_ba_di.edges:\n",
    "        u, v = edge\n",
    "        graph_ba_di.edges[u, v]['weight'] = np.random.choice([-0.5,0.5], 1)\n",
    "\n",
    "    edges_base = list(graph_ba_di.edges)\n",
    "    n_edges = len(edges_base)\n",
    "    n_remove = int(n_edges/4)\n",
    "    idx_edge_remove = np.random.choice(n_edges, n_remove*2, replace=False)\n",
    "    idx_remove_lst0 = idx_edge_remove[:n_remove]\n",
    "    idx_remove_lst1 = idx_edge_remove[n_remove:]\n",
    "\n",
    "    graph_c0 = graph_ba_di.copy()\n",
    "    for i in idx_remove_lst0:\n",
    "        u = edges_base[i][0]\n",
    "        v = edges_base[i][1]\n",
    "        graph_c0.remove_edge(u, v)\n",
    "\n",
    "    graph_c1 = graph_ba_di.copy()\n",
    "    for i in idx_remove_lst1:\n",
    "        u = edges_base[i][0]\n",
    "        v = edges_base[i][1]\n",
    "        graph_c1.remove_edge(u, v)\n",
    "\n",
    "    mat_wt0, _, _ = sim.graph_to_matrix(graph_c0)\n",
    "    mat_wt1, _, _ = sim.graph_to_matrix(graph_c1)\n",
    "\n",
    "    return mat_wt0, mat_wt1\n",
    "\n",
    "\n",
    "load_saved = True\n",
    "if load_saved:\n",
    "    tmp = np.load(\"./temp/struct_20240325.npz\")\n",
    "    mat_wt0 = tmp[\"mat_wt0\"]\n",
    "    mat_wt1 = tmp[\"mat_wt1\"]\n",
    "else:\n",
    "    mat_wt0, mat_wt1 = make_graph()\n",
    "    np.savez(\"./temp/struct.npz\", mat_wt0=mat_wt0, mat_wt1=mat_wt1)\n"
   ],
   "outputs": []
  },
  {
   "cell_type": "code",
   "execution_count": 3,
   "metadata": {},
   "source": [
    "tuning_methods = [\"cv_joint\", \"cv_sequential\", \"cv_bai\", \"mb_cv\", \"mb_bai\"]"
   ],
   "outputs": []
  },
  {
   "cell_type": "markdown",
   "metadata": {},
   "source": [
    "Baseline"
   ]
  },
  {
   "cell_type": "code",
   "execution_count": 14,
   "metadata": {},
   "source": [
    "n_rep = 10\n",
    "res_base = np.zeros((n_rep, len(tuning_methods), 2))\n",
    "\n",
    "for n in range(n_rep):\n",
    "    print(n)\n",
    "    n1 = 100\n",
    "    n2 = 100\n",
    "    dat0 = sim.sim_steady_state_linear_gaussian(mat_wt0, n1)\n",
    "    dat1 = sim.sim_steady_state_linear_gaussian(mat_wt1, n2)\n",
    "    dp = parameter_tuning.DDNParameterSearch(\n",
    "        dat0,\n",
    "        dat1,\n",
    "        n_cv=10,\n",
    "        lambda1_list=np.arange(0.025, 0.725, 0.025),\n",
    "        lambda2_list=np.arange(0.025, 0.225, 0.025),\n",
    "        ratio_validation=0.5,\n",
    "        err_scale=0,\n",
    "    )\n",
    "    for idx, m in enumerate(tuning_methods):\n",
    "        _, rho1, rho2 = dp.fit(m)\n",
    "        res_base[n, idx] = [rho1, rho2]\n",
    "\n",
    "np.savez(\"./temp/baseline_20240325.npz\", res=res_base, method=tuning_methods)\n"
   ],
   "outputs": []
  },
  {
   "cell_type": "code",
   "execution_count": 16,
   "metadata": {},
   "source": [
    "# np.mean(res_base, axis=0)"
   ],
   "outputs": []
  },
  {
   "cell_type": "markdown",
   "metadata": {},
   "source": [
    "Noise in the weights"
   ]
  },
  {
   "cell_type": "code",
   "execution_count": 27,
   "metadata": {},
   "source": [
    "n_rep = 10\n",
    "res_base = np.zeros((n_rep, len(tuning_methods), 2))\n",
    "\n",
    "for n in range(n_rep):\n",
    "    print(n)\n",
    "    n1 = 100\n",
    "    n2 = 100\n",
    "\n",
    "    idx0 = np.where(mat_wt0!=0)\n",
    "    noise = np.random.uniform(-0.1, 0.1, len(idx0[0]))\n",
    "    mat_wt0_noise = np.copy(mat_wt0)\n",
    "    mat_wt0_noise[idx0] += noise\n",
    "\n",
    "    idx1 = np.where(mat_wt1!=0)\n",
    "    noise = np.random.uniform(-0.1, 0.1, len(idx1[0]))\n",
    "    mat_wt1_noise = np.copy(mat_wt1)\n",
    "    mat_wt1_noise[idx1] += noise \n",
    "\n",
    "    dat0 = sim.sim_steady_state_linear_gaussian(mat_wt0_noise, n1)\n",
    "    dat1 = sim.sim_steady_state_linear_gaussian(mat_wt1_noise, n2)\n",
    "    dp = parameter_tuning.DDNParameterSearch(\n",
    "        dat0,\n",
    "        dat1,\n",
    "        n_cv=10,\n",
    "        lambda1_list=np.arange(0.025, 0.725, 0.025),\n",
    "        lambda2_list=np.arange(0.025, 0.225, 0.025),\n",
    "        ratio_validation=0.5,\n",
    "        err_scale=0,\n",
    "    )\n",
    "    for idx, m in enumerate(tuning_methods):\n",
    "        _, rho1, rho2 = dp.fit(m)\n",
    "        res_base[n, idx] = [rho1, rho2]\n",
    "\n",
    "np.savez(\"./temp/weights_20240325.npz\", res=res_base, method=tuning_methods)\n"
   ],
   "outputs": []
  },
  {
   "cell_type": "markdown",
   "metadata": {},
   "source": [
    "Sample number variation"
   ]
  },
  {
   "cell_type": "code",
   "execution_count": 28,
   "metadata": {},
   "source": [
    "n_rep = 10\n",
    "res_base = np.zeros((n_rep, len(tuning_methods), 2))\n",
    "\n",
    "for n in range(n_rep):\n",
    "    print(n)\n",
    "    n1 = int(np.random.uniform(80, 120))\n",
    "    n2 = int(np.random.uniform(80, 120))\n",
    "    dat0 = sim.sim_steady_state_linear_gaussian(mat_wt0, n1)\n",
    "    dat1 = sim.sim_steady_state_linear_gaussian(mat_wt1, n2)\n",
    "    dp = parameter_tuning.DDNParameterSearch(\n",
    "        dat0,\n",
    "        dat1,\n",
    "        n_cv=10,\n",
    "        lambda1_list=np.arange(0.025, 0.725, 0.025),\n",
    "        lambda2_list=np.arange(0.025, 0.225, 0.025),\n",
    "        ratio_validation=0.5,\n",
    "        err_scale=0,\n",
    "    )\n",
    "    for idx, m in enumerate(tuning_methods):\n",
    "        _, rho1, rho2 = dp.fit(m)\n",
    "        res_base[n, idx] = [rho1, rho2]\n",
    "\n",
    "np.savez(\"./temp/samplesize_20240325.npz\", res=res_base, method=tuning_methods)\n"
   ],
   "outputs": []
  },
  {
   "cell_type": "markdown",
   "metadata": {},
   "source": [
    "Non-Gaussian noise"
   ]
  },
  {
   "cell_type": "code",
   "execution_count": 79,
   "metadata": {},
   "source": [
    "# xx = np.random.beta(0.5,0.5,1000) + np.random.randn(1000)*0.1\n",
    "# _ = plt.hist(xx)\n",
    "# print(np.std(xx))"
   ],
   "outputs": []
  },
  {
   "cell_type": "code",
   "execution_count": 80,
   "metadata": {},
   "source": [
    "# xx = np.random.gamma(2,2,10000)\n",
    "# _ = plt.hist(xx, 100)"
   ],
   "outputs": []
  },
  {
   "cell_type": "code",
   "execution_count": 12,
   "metadata": {},
   "source": [
    "# dat0 = sim.sim_steady_state_linear_nongaussian(mat_wt0, 10000)\n",
    "# plt.hist(dat0[:,1])"
   ],
   "outputs": []
  },
  {
   "cell_type": "code",
   "execution_count": 13,
   "metadata": {},
   "source": [
    "n_rep = 10\n",
    "res_base = np.zeros((n_rep, len(tuning_methods), 2))\n",
    "\n",
    "for n in range(n_rep):\n",
    "    print(n)\n",
    "    n1 = 100\n",
    "    n2 = 100\n",
    "    dat0 = sim.sim_steady_state_linear_nongaussian(mat_wt0, n1)\n",
    "    dat1 = sim.sim_steady_state_linear_nongaussian(mat_wt1, n2)\n",
    "    dp = parameter_tuning.DDNParameterSearch(\n",
    "        dat0,\n",
    "        dat1,\n",
    "        n_cv=10,\n",
    "        lambda1_list=np.arange(0.025, 0.725, 0.025),\n",
    "        lambda2_list=np.arange(0.025, 0.225, 0.025),\n",
    "        ratio_validation=0.5,\n",
    "        err_scale=0,\n",
    "    )\n",
    "    for idx, m in enumerate(tuning_methods):\n",
    "        _, rho1, rho2 = dp.fit(m)\n",
    "        res_base[n, idx] = [rho1, rho2]\n",
    "\n",
    "np.savez(\"./temp/est_nongaussian_20240325.npz\", res=res_base, method=tuning_methods)\n"
   ],
   "outputs": []
  },
  {
   "cell_type": "markdown",
   "metadata": {},
   "source": [
    "## Analysis"
   ]
  },
  {
   "cell_type": "code",
   "execution_count": 6,
   "metadata": {},
   "source": [
    "res_base = np.load(\"./temp/est_baseline_20240325.npz\")['res']\n",
    "res_weight = np.load(\"./temp/est_weights_20240325.npz\")['res']\n",
    "res_sample = np.load(\"./temp/est_samplesize_20240325.npz\")['res']\n",
    "res_nongaussian = np.load(\"./temp/est_nongaussian_20240325.npz\")['res']\n",
    "tuning_methods = [\"cv_joint\", \"cv_sequential\", \"cv_bai\", \"mb_cv\", \"mb_bai\"]"
   ],
   "outputs": []
  },
  {
   "cell_type": "code",
   "execution_count": 11,
   "metadata": {},
   "source": [
    "met_idx = 0\n",
    "\n",
    "for met_idx in range(5):\n",
    "\n",
    "    fig, axs = plt.subplots(nrows=1, ncols=2, figsize=(9, 4))\n",
    "\n",
    "    labels = ['Baseline', 'Weight', 'Sample', 'Distribution']\n",
    "\n",
    "    for rho_idx in range(2):\n",
    "        x0 = res_base[:, met_idx, rho_idx]\n",
    "        x1 = res_weight[:, met_idx, rho_idx]\n",
    "        x2 = res_sample[:, met_idx, rho_idx]\n",
    "        x3 = res_nongaussian[:, met_idx, rho_idx]\n",
    "\n",
    "        all_data = [x0, x1, x2, x3]\n",
    "        axs[rho_idx].violinplot(all_data, showmeans=True)    \n",
    "        if rho_idx==0:\n",
    "            axs[rho_idx].set_ylim([0,1])\n",
    "        else:\n",
    "            axs[rho_idx].set_ylim([0,0.5])\n",
    "\n",
    "    for ax in axs:\n",
    "        ax.yaxis.grid(True)\n",
    "        ax.set_xticks([y + 1 for y in range(len(all_data))], labels=labels)\n",
    "    \n",
    "    axs[0].set_title('$\\lambda_1$')\n",
    "    axs[1].set_title('$\\lambda_2$')\n",
    "\n",
    "    fig.savefig(f\"./temp/sensi_{tuning_methods[met_idx]}.png\")\n"
   ],
   "outputs": []
  },
  {
   "cell_type": "code",
   "execution_count": null,
   "metadata": {},
   "source": [],
   "outputs": []
  },
  {
   "cell_type": "markdown",
   "metadata": {},
   "source": [
    "## Example"
   ]
  },
  {
   "cell_type": "code",
   "execution_count": 11,
   "metadata": {},
   "source": [
    "dat0 = sim.sim_steady_state_linear_gaussian(mat_wt0, n1)\n",
    "dat1 = sim.sim_steady_state_linear_gaussian(mat_wt1, n2)\n",
    "\n",
    "dp = parameter_tuning.DDNParameterSearch(\n",
    "    dat0,\n",
    "    dat1,\n",
    "    n_cv=5,\n",
    "    lambda1_list=np.arange(0.025, 0.725, 0.025),\n",
    "    lambda2_list=np.arange(0.025, 0.225, 0.025),\n",
    "    ratio_validation=0.5,\n",
    "    err_scale=0.0,\n",
    ")"
   ],
   "outputs": []
  },
  {
   "cell_type": "code",
   "execution_count": null,
   "metadata": {},
   "source": [
    "val_err2d, rho1, rho2 = dp.fit(\"cv_joint\")"
   ],
   "outputs": []
  },
  {
   "cell_type": "code",
   "execution_count": null,
   "metadata": {},
   "source": [
    "plt.imshow(np.mean(val_err2d, axis=0))"
   ],
   "outputs": []
  },
  {
   "cell_type": "code",
   "execution_count": null,
   "metadata": {},
   "source": [
    "print(rho1, rho2)"
   ],
   "outputs": []
  },
  {
   "cell_type": "code",
   "execution_count": 12,
   "metadata": {},
   "source": [
    "[val_err1, val_err2], rho1, rho2 = dp.fit(\"cv_sequential\")"
   ],
   "outputs": []
  },
  {
   "cell_type": "code",
   "execution_count": 13,
   "metadata": {},
   "source": [
    "plt.plot(val_err1.T)"
   ],
   "outputs": []
  },
  {
   "cell_type": "code",
   "execution_count": 14,
   "metadata": {},
   "source": [
    "plt.plot(np.mean(val_err2, axis=0))"
   ],
   "outputs": []
  },
  {
   "cell_type": "markdown",
   "metadata": {},
   "source": [
    "## Ground truth\n",
    "For debug"
   ]
  },
  {
   "cell_type": "code",
   "execution_count": 43,
   "metadata": {},
   "source": [
    "comm_gt, diff_gt = tools.get_common_diff_net_topo([mat_wt0, mat_wt1])"
   ],
   "outputs": []
  },
  {
   "cell_type": "code",
   "execution_count": 59,
   "metadata": {},
   "source": [
    "n1 = 100\n",
    "n2 = 100\n",
    "\n",
    "dat0 = sim.sim_steady_state_linear_gaussian(mat_wt0, n1)\n",
    "dat1 = sim.sim_steady_state_linear_gaussian(mat_wt1, n2)"
   ],
   "outputs": []
  },
  {
   "cell_type": "code",
   "execution_count": 60,
   "metadata": {},
   "source": [
    "from ddn3 import ddn, performance\n",
    "\n",
    "# omega1, omega2 = ddn.ddn(dat0, dat1, lambda1=0.3, lambda2=0.1)\n",
    "\n",
    "lambda1_rg = np.arange(0.02, 1.01, 0.02)\n",
    "res_comm_ddn = np.zeros((len(lambda1_rg), 5))\n",
    "res_diff_ddn = np.zeros((len(lambda1_rg), 5))\n",
    "for i, lamb in enumerate(lambda1_rg):\n",
    "    out_ddn = ddn.ddn(dat0, dat1, lambda1=lamb, lambda2=0.065)\n",
    "    comm_est, diff_est = tools.get_common_diff_net_topo(out_ddn)\n",
    "    res_comm_ddn[i] = performance.get_error_measure_two_theta(comm_est, comm_gt)\n",
    "    res_diff_ddn[i] = performance.get_error_measure_two_theta(diff_est, diff_gt)\n"
   ],
   "outputs": []
  },
  {
   "cell_type": "code",
   "execution_count": 61,
   "metadata": {},
   "source": [
    "plt.plot(res_comm_ddn[:,0])\n",
    "plt.plot(res_comm_ddn[:,1])\n",
    "plt.ylim([0,50])"
   ],
   "outputs": []
  },
  {
   "cell_type": "code",
   "execution_count": 62,
   "metadata": {},
   "source": [
    "plt.plot(res_diff_ddn[:,0])\n",
    "plt.plot(res_diff_ddn[:,1])\n",
    "plt.ylim([0,50])"
   ],
   "outputs": []
  },
  {
   "cell_type": "markdown",
   "metadata": {},
   "source": [
    "## Misc\n",
    "Different ways of generating Gaussian samples\n",
    "- Conditional independence"
   ]
  },
  {
   "cell_type": "code",
   "execution_count": null,
   "metadata": {},
   "source": [
    "prec_mat = np.eye(21)\n",
    "for i in range(20):\n",
    "    prec_mat[i, i+1] = 0.4\n",
    "    prec_mat[i+1, i] = 0.4\n",
    "\n",
    "cov_mat = np.linalg.inv(prec_mat)\n"
   ],
   "outputs": []
  },
  {
   "cell_type": "code",
   "execution_count": null,
   "metadata": {},
   "source": [
    "plt.imshow(cov_mat)\n",
    "plt.colorbar()"
   ],
   "outputs": []
  },
  {
   "cell_type": "code",
   "execution_count": null,
   "metadata": {},
   "source": [
    "cov_mat_chol = np.linalg.cholesky(cov_mat)"
   ],
   "outputs": []
  },
  {
   "cell_type": "code",
   "execution_count": null,
   "metadata": {},
   "source": [
    "plt.imshow(cov_mat_chol)"
   ],
   "outputs": []
  }
 ],
 "metadata": {
  "kernelspec": {
   "display_name": "ai",
   "language": "python",
   "name": "python3"
  },
  "language_info": {
   "codemirror_mode": {
    "name": "ipython",
    "version": 3
   },
   "file_extension": ".py",
   "mimetype": "text/x-python",
   "name": "python",
   "nbconvert_exporter": "python",
   "pygments_lexer": "ipython3",
   "version": "3.9.18"
  }
 },
 "nbformat": 4,
 "nbformat_minor": 2
}

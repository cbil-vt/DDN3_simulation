{
 "cells": [
  {
   "cell_type": "markdown",
   "metadata": {},
   "source": [
    "# Application 1"
   ]
  },
  {
   "cell_type": "code",
   "metadata": {
    "ExecuteTime": {
     "end_time": "2024-04-10T23:45:42.084080Z",
     "start_time": "2024-04-10T23:45:35.712678Z"
    }
   },
   "source": [
    "import numpy as np\n",
    "import scipy.io as sio\n",
    "import matplotlib.pyplot as plt\n",
    "import pandas as pd\n",
    "from iddn import iddn\n",
    "from ddn3 import tools_export, visualize2\n",
    "\n",
    "%load_ext autoreload\n",
    "%autoreload 2"
   ],
   "execution_count": 1,
   "outputs": []
  },
  {
   "cell_type": "code",
   "metadata": {
    "ExecuteTime": {
     "end_time": "2024-04-10T23:45:42.259610Z",
     "start_time": "2024-04-10T23:45:42.087072Z"
    }
   },
   "source": [
    "dat_folder = \"../../../x_data/iddn/\"\n",
    "\n",
    "f0 = dat_folder + \"GeneEntity.txt\"\n",
    "gene_names = pd.read_csv(f0, header=None)[0].to_numpy()\n",
    "\n",
    "f0 = dat_folder + \"GeneTF.txt\"\n",
    "tf_names = pd.read_csv(f0, header=None)[0].to_numpy()\n",
    "tf_names = np.array([\"TF_\"+x for x in tf_names])\n",
    "\n",
    "f0 = dat_folder + \"dataHRDp.csv\"\n",
    "dat_pos = pd.read_csv(f0, header=None).to_numpy()\n",
    "f0 = dat_folder + \"dataHRDn.csv\"\n",
    "dat_neg = pd.read_csv(f0, header=None).to_numpy()\n",
    "\n",
    "node_names = list(gene_names) + list(tf_names)\n",
    "\n",
    "n_gene = len(gene_names)\n",
    "n_tf = len(tf_names)"
   ],
   "execution_count": 2,
   "outputs": []
  },
  {
   "cell_type": "code",
   "metadata": {
    "ExecuteTime": {
     "end_time": "2024-04-11T01:56:40.829818Z",
     "start_time": "2024-04-11T01:56:40.741077Z"
    }
   },
   "source": [
    "# dat_pos0 = dat_pos[:19, n_gene:]\n",
    "# dat_neg0 = dat_neg[:19, n_gene:]\n",
    "dat_pos0 = dat_pos[:, n_gene:]\n",
    "dat_neg0 = dat_neg[:, n_gene:]\n",
    "\n",
    "# n_sel = 100\n",
    "# \n",
    "# n_pos = len(dat_pos0)\n",
    "# idx_pos = np.random.choice(n_pos, n_sel, replace=True)\n",
    "# # idx_pos = np.random.choice(n_pos, n_sel, replace=False)\n",
    "# dat_pos0 = dat_pos0[idx_pos]\n",
    "# \n",
    "# n_neg = len(dat_neg0)\n",
    "# idx_neg = np.random.choice(n_neg, n_sel, replace=True)\n",
    "# # idx_neg = np.random.choice(n_neg, n_sel, replace=False)\n",
    "# dat_neg0 = dat_neg0[idx_neg]\n",
    "\n",
    "n_node = n_gene + n_tf\n",
    "if 0:  # same penalties for all edges\n",
    "    scl = 1.2\n",
    "    rho1_mat = np.ones((n_node, n_node))*0.5*scl\n",
    "    rho1_mat[:n_gene,n_gene:] = 0.3*scl\n",
    "    rho1_mat[n_gene:,:n_gene] = 0.3*scl\n",
    "    rho1_mat[n_gene:, n_gene:] = 0.3*scl\n",
    "else:\n",
    "    rho1_mat = np.ones((n_node, n_node))*0.25\n",
    "\n",
    "# rho2_mat = np.ones((n_node, n_node))*0.00\n",
    "rho2_mat = np.ones((n_node, n_node))*0.05\n",
    "dep_mat = np.ones((n_node, n_node))\n",
    "\n",
    "# plt.imshow(rho1_mat)\n",
    "# plt.clim([0,1])\n",
    "# plt.colorbar()"
   ],
   "execution_count": 154,
   "outputs": []
  },
  {
   "metadata": {
    "ExecuteTime": {
     "end_time": "2024-04-11T00:04:04.827455Z",
     "start_time": "2024-04-11T00:04:04.822468Z"
    }
   },
   "cell_type": "code",
   "source": "",
   "execution_count": 38,
   "outputs": []
  },
  {
   "cell_type": "code",
   "metadata": {
    "ExecuteTime": {
     "end_time": "2024-04-11T01:56:42.993596Z",
     "start_time": "2024-04-11T01:56:42.711846Z"
    }
   },
   "source": [
    "g_rec = iddn.iddn(dat_pos0, dat_neg0, lambda1=rho1_mat, lambda2=rho2_mat, mthd='resi', dep_mat=dep_mat)\n",
    "\n",
    "# np.sum(np.abs(g_rec)>1e-8)\n",
    "comm_edge, _, _, diff_edge, node_show = tools_export.get_diff_comm_net_for_plot(g_rec[0], g_rec[1], node_names, thr=1e-4)\n",
    "print(len(comm_edge), len(diff_edge))\n",
    "\n",
    "nodes_type = dict()\n",
    "for i in range(len(node_names)):\n",
    "    if i < n_gene:\n",
    "        nodes_type[node_names[i]] = 1\n",
    "    else:\n",
    "        nodes_type[node_names[i]] = 0\n"
   ],
   "execution_count": 155,
   "outputs": []
  },
  {
   "metadata": {
    "ExecuteTime": {
     "end_time": "2024-04-11T02:03:17.870134Z",
     "start_time": "2024-04-11T02:03:17.787353Z"
    }
   },
   "cell_type": "code",
   "source": [
    "# g0 = g_rec[0]\n",
    "# g1 = g_rec[1]\n",
    "# \n",
    "# m0 = 1*(np.abs(g0)>1e-8)\n",
    "# m1 = 1*(np.abs(g1)>1e-8)\n",
    "# m01 = 1*((m0+m1)==2)\n",
    "# \n",
    "# print(np.sum(m0), np.sum(m1), np.sum(m01))\n"
   ],
   "execution_count": 162,
   "outputs": []
  },
  {
   "metadata": {
    "ExecuteTime": {
     "end_time": "2024-04-11T02:04:48.195450Z",
     "start_time": "2024-04-11T02:04:48.096714Z"
    }
   },
   "cell_type": "code",
   "source": "np.sum(diff_edge['condition']==1)",
   "execution_count": 167,
   "outputs": []
  },
  {
   "cell_type": "code",
   "metadata": {
    "ExecuteTime": {
     "end_time": "2024-04-11T02:00:47.616814Z",
     "start_time": "2024-04-11T02:00:46.750618Z"
    }
   },
   "source": [
    "visualize2.draw_network_for_ddn(\n",
    "    comm_edge,\n",
    "    node_show,\n",
    "    mode=\"common\",\n",
    "    nodes_type=nodes_type,\n",
    "    cen_lst=np.array([[-0.8,0],[0.8,0]]),\n",
    "    rad_lst=np.array([[0.3,0.5],[0.8,0.8]]),\n",
    "    labels=None,\n",
    "    fig_size=(16, 9),\n",
    "    font_size_scale=1,\n",
    "    node_size_scale=1,\n",
    "    min_alpha=0.4,\n",
    "    dashed=False,\n",
    "    pdf_name=\"./temp/\",\n",
    ")"
   ],
   "execution_count": 161,
   "outputs": []
  },
  {
   "cell_type": "code",
   "metadata": {
    "ExecuteTime": {
     "end_time": "2024-04-11T02:00:44.553054Z",
     "start_time": "2024-04-11T02:00:43.070142Z"
    }
   },
   "source": [
    "visualize2.draw_network_for_ddn(\n",
    "    diff_edge,\n",
    "    node_show,\n",
    "    mode=\"diff\",\n",
    "    nodes_type=nodes_type,\n",
    "    cen_lst=np.array([[-0.8,0],[0.8,0]]),\n",
    "    rad_lst=np.array([[0.3,0.5],[0.7,0.8]]),\n",
    "    labels=None,\n",
    "    fig_size=(16, 9),\n",
    "    font_size_scale=1,\n",
    "    node_size_scale=1,\n",
    "    min_alpha=0.05,\n",
    "    dashed=False,\n",
    "    pdf_name=\"./temp/\",\n",
    ")"
   ],
   "execution_count": 160,
   "outputs": []
  },
  {
   "cell_type": "code",
   "metadata": {
    "ExecuteTime": {
     "end_time": "2024-04-10T23:45:48.146Z",
     "start_time": "2024-04-10T23:45:48.134032Z"
    }
   },
   "source": [],
   "execution_count": 8,
   "outputs": []
  }
 ],
 "metadata": {
  "kernelspec": {
   "display_name": "ddn",
   "language": "python",
   "name": "python3"
  },
  "language_info": {
   "codemirror_mode": {
    "name": "ipython",
    "version": 3
   },
   "file_extension": ".py",
   "mimetype": "text/x-python",
   "name": "python",
   "nbconvert_exporter": "python",
   "pygments_lexer": "ipython3",
   "version": "3.11.7"
  }
 },
 "nbformat": 4,
 "nbformat_minor": 2
}

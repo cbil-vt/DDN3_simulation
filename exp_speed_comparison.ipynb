{
 "cells": [
  {
   "cell_type": "markdown",
   "metadata": {},
   "source": [
    "# Speed comparison"
   ]
  },
  {
   "cell_type": "code",
   "execution_count": null,
   "metadata": {},
   "outputs": [],
   "source": [
    "import time\n",
    "import numpy as np\n",
    "import matplotlib.pyplot as plt\n",
    "from ddn3 import simulation\n",
    "import simulation_r, scan_r\n",
    "\n",
    "%load_ext autoreload\n",
    "%autoreload 2"
   ]
  },
  {
   "cell_type": "markdown",
   "metadata": {},
   "source": [
    "## DDN and JGL"
   ]
  },
  {
   "cell_type": "code",
   "execution_count": null,
   "metadata": {},
   "outputs": [],
   "source": [
    "n_node = 100\n",
    "n1, n2 = 50, 50\n",
    "ratio_diff = 0.25\n",
    "n_rep = 5\n",
    "rho1_lst = np.arange(0.05, 1.05, 0.05)\n",
    "rho2 = 0.1\n",
    "\n",
    "t_lst = np.zeros((n_rep, len(rho1_lst), 2))\n",
    "for n in range(n_rep):\n",
    "    omega, omega1, omega2 = simulation_r.huge_omega(\n",
    "        n_node=n_node, ratio_diff=ratio_diff, graph_type=\"scale-free-multi\", n_group=4,\n",
    "    )\n",
    "    g1_cov, g2_cov, comm_gt, diff_gt = simulation.prep_sim_from_two_omega(omega1, omega2)\n",
    "    dat1, dat2 = simulation.gen_sample_two_conditions(g1_cov, g2_cov, n1, n2)\n",
    "\n",
    "    for i, rho1 in enumerate(rho1_lst):\n",
    "        tic = time.perf_counter()\n",
    "        t1_lst_ddn, t2_lst_ddn = scan_r.scan_ddn(dat1, dat2, lambda1_rg=[rho1], lambda2=rho2)\n",
    "        toc = time.perf_counter()\n",
    "        t_lst[n, i, 0] = toc - tic\n",
    "        # print(f\"DDN {toc - tic:0.4f} seconds\")\n",
    "\n",
    "        tic = time.perf_counter()\n",
    "        t1_lst_jgl, t2_lst_jgl = scan_r.scan_jgl(dat1, dat2, lambda1_rg=[rho1], lambda2=rho2)\n",
    "        toc = time.perf_counter()\n",
    "        t_lst[n, i, 1] = toc - tic\n",
    "        # print(f\"JGL {toc - tic:0.4f} seconds\")\n"
   ]
  },
  {
   "cell_type": "code",
   "execution_count": null,
   "metadata": {},
   "outputs": [],
   "source": [
    "np.savez(f'timing_ddn_jgl_n-node_{n_node}_n1_{n1}_n2_{n2}', dat1=dat1, dat2=dat2, t_lst=t_lst)"
   ]
  },
  {
   "cell_type": "markdown",
   "metadata": {},
   "source": [
    "Plot"
   ]
  },
  {
   "cell_type": "code",
   "execution_count": null,
   "metadata": {},
   "outputs": [],
   "source": [
    "# temp = np.load(\"../output_simulation/speed/timing_ddn_jgl_n-node_400_n1_200_n2_200.npz\")\n",
    "temp = np.load(\"../output_simulation/speed/timing_ddn_jgl_n-node_200_n1_200_n2_200.npz\")\n",
    "# temp = np.load(\"../output_simulation/speed/timing_ddn_jgl_n-node_100_n1_200_n2_200.npz\")\n",
    "t_lst200 = temp['t_lst']"
   ]
  },
  {
   "cell_type": "code",
   "execution_count": null,
   "metadata": {},
   "outputs": [],
   "source": [
    "rho1_lst = np.arange(0.05, 1.05, 0.05)\n",
    "t_lst200_mean = np.mean(t_lst200, axis=0)\n",
    "# t_lst50_mean = np.mean(t_lst50, axis=0)\n",
    "print(np.sum(t_lst200_mean, axis=0))\n",
    "# print(np.sum(t_lst50_mean, axis=0))"
   ]
  },
  {
   "cell_type": "code",
   "execution_count": null,
   "metadata": {},
   "outputs": [],
   "source": [
    "plt.plot(rho1_lst, t_lst200_mean[:,0], label='DDN 3.0')\n",
    "plt.plot(rho1_lst, t_lst200_mean[:,1], label=\"JGL\")\n",
    "plt.xlabel(\"$\\lambda1$\")\n",
    "plt.ylabel(\"Time (s)\")\n",
    "plt.legend()\n",
    "plt.savefig(\"./sim_fig_out/speed_jgl_node_200.png\")\n"
   ]
  },
  {
   "cell_type": "code",
   "execution_count": null,
   "metadata": {},
   "outputs": [],
   "source": [
    "# plt.plot(rho1_lst, t_lst_mean[:,1]/t_lst_mean[:,0])"
   ]
  },
  {
   "cell_type": "markdown",
   "metadata": {},
   "source": [
    "## DINGO"
   ]
  },
  {
   "cell_type": "code",
   "execution_count": 4,
   "metadata": {},
   "outputs": [
    {
     "name": "stdout",
     "output_type": "stream",
     "text": [
      "0.05\n",
      "Step 1 of DINGO is finished at Sat Jan  6 08:47:51 2024 \n",
      "Step 2 of DINGO is finished at Sat Jan  6 08:49:57 2024 \n",
      "Bootstrap scoring is started at Sat Jan  6 08:49:57 2024 \n",
      "Bootstrap scoring is done at Sat Jan  6 08:50:50 2024 \n",
      "rho is  [1] 0.05\n",
      "\n",
      "0.1\n",
      "Step 1 of DINGO is finished at Sat Jan  6 08:50:51 2024 \n",
      "Step 2 of DINGO is finished at Sat Jan  6 08:52:15 2024 \n",
      "Bootstrap scoring is started at Sat Jan  6 08:52:15 2024 \n",
      "Bootstrap scoring is done at Sat Jan  6 08:53:44 2024 \n",
      "rho is  [1] 0.1\n",
      "\n",
      "0.15000000000000002\n",
      "Step 1 of DINGO is finished at Sat Jan  6 08:53:44 2024 \n",
      "Step 2 of DINGO is finished at Sat Jan  6 08:56:24 2024 \n",
      "Bootstrap scoring is started at Sat Jan  6 08:56:24 2024 \n",
      "Bootstrap scoring is done at Sat Jan  6 08:57:38 2024 \n",
      "rho is  [1] 0.15\n",
      "\n",
      "0.2\n",
      "Step 1 of DINGO is finished at Sat Jan  6 08:57:39 2024 \n",
      "Step 2 of DINGO is finished at Sat Jan  6 08:58:10 2024 \n",
      "Bootstrap scoring is started at Sat Jan  6 08:58:10 2024 \n",
      "Bootstrap scoring is done at Sat Jan  6 08:59:50 2024 \n",
      "rho is  [1] 0.2\n",
      "\n",
      "0.25\n",
      "Step 1 of DINGO is finished at Sat Jan  6 08:59:50 2024 \n",
      "Step 2 of DINGO is finished at Sat Jan  6 09:00:55 2024 \n",
      "Bootstrap scoring is started at Sat Jan  6 09:00:55 2024 \n",
      "Bootstrap scoring is done at Sat Jan  6 09:02:13 2024 \n",
      "rho is  [1] 0.25\n",
      "\n",
      "0.3\n",
      "Step 1 of DINGO is finished at Sat Jan  6 09:02:13 2024 \n",
      "Step 2 of DINGO is finished at Sat Jan  6 09:03:01 2024 \n",
      "Bootstrap scoring is started at Sat Jan  6 09:03:01 2024 \n",
      "Bootstrap scoring is done at Sat Jan  6 09:05:26 2024 \n",
      "rho is  [1] 0.3\n",
      "\n",
      "0.35000000000000003\n",
      "Step 1 of DINGO is finished at Sat Jan  6 09:05:27 2024 \n",
      "Step 2 of DINGO is finished at Sat Jan  6 09:06:04 2024 \n",
      "Bootstrap scoring is started at Sat Jan  6 09:06:04 2024 \n",
      "Bootstrap scoring is done at Sat Jan  6 09:07:42 2024 \n",
      "rho is  [1] 0.35\n",
      "\n",
      "0.4\n",
      "Step 1 of DINGO is finished at Sat Jan  6 09:07:42 2024 \n",
      "Step 2 of DINGO is finished at Sat Jan  6 09:08:40 2024 \n",
      "Bootstrap scoring is started at Sat Jan  6 09:08:40 2024 \n",
      "Bootstrap scoring is done at Sat Jan  6 09:09:46 2024 \n",
      "rho is  [1] 0.4\n",
      "\n",
      "0.45\n",
      "Step 1 of DINGO is finished at Sat Jan  6 09:09:47 2024 \n",
      "Step 2 of DINGO is finished at Sat Jan  6 09:10:31 2024 \n",
      "Bootstrap scoring is started at Sat Jan  6 09:10:31 2024 \n",
      "Bootstrap scoring is done at Sat Jan  6 09:11:39 2024 \n",
      "rho is  [1] 0.45\n",
      "\n",
      "0.5\n",
      "Step 1 of DINGO is finished at Sat Jan  6 09:11:39 2024 \n",
      "Step 2 of DINGO is finished at Sat Jan  6 09:12:36 2024 \n",
      "Bootstrap scoring is started at Sat Jan  6 09:12:36 2024 \n",
      "Bootstrap scoring is done at Sat Jan  6 09:14:49 2024 \n",
      "rho is  [1] 0.5\n",
      "\n",
      "0.55\n",
      "Step 1 of DINGO is finished at Sat Jan  6 09:14:49 2024 \n",
      "Step 2 of DINGO is finished at Sat Jan  6 09:15:46 2024 \n",
      "Bootstrap scoring is started at Sat Jan  6 09:15:46 2024 \n",
      "Bootstrap scoring is done at Sat Jan  6 09:17:27 2024 \n",
      "rho is  [1] 0.55\n",
      "\n",
      "0.6000000000000001\n",
      "Step 1 of DINGO is finished at Sat Jan  6 09:17:27 2024 \n",
      "Step 2 of DINGO is finished at Sat Jan  6 09:18:24 2024 \n",
      "Bootstrap scoring is started at Sat Jan  6 09:18:24 2024 \n",
      "Bootstrap scoring is done at Sat Jan  6 09:19:25 2024 \n",
      "rho is  [1] 0.6\n",
      "\n",
      "0.6500000000000001\n",
      "Step 1 of DINGO is finished at Sat Jan  6 09:19:25 2024 \n",
      "Step 2 of DINGO is finished at Sat Jan  6 09:20:22 2024 \n",
      "Bootstrap scoring is started at Sat Jan  6 09:20:22 2024 \n",
      "Bootstrap scoring is done at Sat Jan  6 09:22:47 2024 \n",
      "rho is  [1] 0.65\n",
      "\n",
      "0.7000000000000001\n",
      "Step 1 of DINGO is finished at Sat Jan  6 09:22:47 2024 \n",
      "Step 2 of DINGO is finished at Sat Jan  6 09:23:44 2024 \n",
      "Bootstrap scoring is started at Sat Jan  6 09:23:44 2024 \n",
      "Bootstrap scoring is done at Sat Jan  6 09:24:36 2024 \n",
      "rho is  [1] 0.7\n",
      "\n",
      "0.7500000000000001\n",
      "Step 1 of DINGO is finished at Sat Jan  6 09:24:36 2024 \n",
      "Step 2 of DINGO is finished at Sat Jan  6 09:25:33 2024 \n",
      "Bootstrap scoring is started at Sat Jan  6 09:25:33 2024 \n",
      "Bootstrap scoring is done at Sat Jan  6 09:27:00 2024 \n",
      "rho is  [1] 0.75\n",
      "\n",
      "0.8\n",
      "Step 1 of DINGO is finished at Sat Jan  6 09:27:00 2024 \n",
      "Step 2 of DINGO is finished at Sat Jan  6 09:27:56 2024 \n",
      "Bootstrap scoring is started at Sat Jan  6 09:27:56 2024 \n",
      "Bootstrap scoring is done at Sat Jan  6 09:28:49 2024 \n",
      "rho is  [1] 0.8\n",
      "\n",
      "0.8500000000000001\n",
      "Step 1 of DINGO is finished at Sat Jan  6 09:28:50 2024 \n",
      "Step 2 of DINGO is finished at Sat Jan  6 09:29:47 2024 \n",
      "Bootstrap scoring is started at Sat Jan  6 09:29:47 2024 \n",
      "Bootstrap scoring is done at Sat Jan  6 09:31:45 2024 \n",
      "rho is  [1] 0.85\n",
      "\n",
      "0.9000000000000001\n",
      "Step 1 of DINGO is finished at Sat Jan  6 09:31:45 2024 \n",
      "Step 2 of DINGO is finished at Sat Jan  6 09:32:42 2024 \n",
      "Bootstrap scoring is started at Sat Jan  6 09:32:42 2024 \n",
      "Bootstrap scoring is done at Sat Jan  6 09:35:56 2024 \n",
      "rho is  [1] 0.9\n",
      "\n",
      "0.9500000000000001\n",
      "Step 1 of DINGO is finished at Sat Jan  6 09:35:56 2024 \n",
      "Step 2 of DINGO is finished at Sat Jan  6 09:36:53 2024 \n",
      "Bootstrap scoring is started at Sat Jan  6 09:36:53 2024 \n",
      "Bootstrap scoring is done at Sat Jan  6 09:38:08 2024 \n",
      "rho is  [1] 0.95\n",
      "\n",
      "1.0\n",
      "Step 1 of DINGO is finished at Sat Jan  6 09:38:08 2024 \n",
      "Step 2 of DINGO is finished at Sat Jan  6 09:39:05 2024 \n",
      "Bootstrap scoring is started at Sat Jan  6 09:39:05 2024 \n",
      "Bootstrap scoring is done at Sat Jan  6 09:41:10 2024 \n",
      "rho is  [1] 1\n",
      "\n"
     ]
    }
   ],
   "source": [
    "n_node = 200\n",
    "n1, n2 = 50, 50\n",
    "ratio_diff = 0.25\n",
    "n_rep = 1\n",
    "rho1_lst = np.arange(0.05, 1.05, 0.05)\n",
    "# rho2 = 0.1\n",
    "\n",
    "t_lst = np.zeros((n_rep, len(rho1_lst)))\n",
    "for n in range(n_rep):\n",
    "    omega, omega1, omega2 = simulation_r.huge_omega(\n",
    "        n_node=n_node, ratio_diff=ratio_diff, graph_type=\"scale-free-multi\", n_group=4,\n",
    "    )\n",
    "    g1_cov, g2_cov, comm_gt, diff_gt = simulation.prep_sim_from_two_omega(omega1, omega2)\n",
    "    dat1, dat2 = simulation.gen_sample_two_conditions(g1_cov, g2_cov, n1, n2)\n",
    "\n",
    "    for i, rho1 in enumerate(rho1_lst):\n",
    "        print(rho1)\n",
    "        tic = time.perf_counter()\n",
    "        t1_dingo, t2_dingo, comm_dingo, diff_dingo, _ = scan_r.scan_dingo(dat1, dat2, B=10, rho=rho1, cores=10)\n",
    "        toc = time.perf_counter()\n",
    "        t_lst[n, i] = toc - tic\n",
    "\n",
    "np.savez(f'timing_dingo_n-node_{n_node}_n1_{n1}_n2_{n2}', dat1=dat1, dat2=dat2, t_lst=t_lst)"
   ]
  },
  {
   "cell_type": "code",
   "execution_count": 12,
   "metadata": {},
   "outputs": [
    {
     "data": {
      "text/plain": [
       "3200.433781799162"
      ]
     },
     "execution_count": 12,
     "metadata": {},
     "output_type": "execute_result"
    }
   ],
   "source": [
    "f0 = '../output_simulation/speed/timing_dingo_n-node_200_n1_50_n2_50.npz'\n",
    "t_lst_dingo = np.load(f0)['t_lst']\n",
    "np.sum(t_lst_dingo)"
   ]
  },
  {
   "cell_type": "markdown",
   "metadata": {},
   "source": [
    "Plot"
   ]
  },
  {
   "cell_type": "code",
   "execution_count": 5,
   "metadata": {},
   "outputs": [],
   "source": [
    "f0 = '../output_simulation/speed/timing_dingo_n-node_200_n1_50_n2_50.npz'\n",
    "t_lst_dingo = np.load(f0)['t_lst']\n",
    "f1 = '../output_simulation/speed/timing_ddn_jgl_n-node_200_n1_50_n2_50.npz'\n",
    "t_lst_ddn_jgl = np.load(f1)['t_lst']\n",
    "t_lst_ddn_jgl = np.mean(t_lst_ddn_jgl, axis=0)"
   ]
  },
  {
   "cell_type": "code",
   "execution_count": 8,
   "metadata": {},
   "outputs": [
    {
     "data": {
      "image/png": "[encoded data removed]",
      "text/plain": [
       "<Figure size 640x480 with 1 Axes>"
      ]
     },
     "metadata": {},
     "output_type": "display_data"
    }
   ],
   "source": [
    "rho1_lst = np.arange(0.05, 1.05, 0.05)\n",
    "plt.plot(rho1_lst, t_lst_ddn_jgl[:, 0], label=\"DDN 3.0\")\n",
    "plt.plot(rho1_lst, t_lst_ddn_jgl[:, 1], label=\"JGL\")\n",
    "plt.plot(rho1_lst, t_lst_dingo[0, :], label=\"DINGO\")\n",
    "plt.ylim([0,350])\n",
    "plt.xlabel(\"$\\lambda1$\")\n",
    "plt.ylabel(\"Time (s)\")\n",
    "plt.legend()\n",
    "plt.savefig(\"./figures/speed_dingo_200.png\")"
   ]
  },
  {
   "cell_type": "code",
   "execution_count": null,
   "metadata": {},
   "outputs": [],
   "source": [
    "print(np.sum(t_lst_dingo))"
   ]
  },
  {
   "cell_type": "markdown",
   "metadata": {},
   "source": [
    "## DDN and DDN 3.0"
   ]
  },
  {
   "cell_type": "code",
   "execution_count": null,
   "metadata": {},
   "outputs": [],
   "source": [
    "n_node = 200\n",
    "n1, n2 = 50, 50\n",
    "ratio_diff = 0.25\n",
    "n_rep = 2\n",
    "rho1_lst = np.arange(0.05, 1.05, 0.05)\n",
    "rho2 = 0.1\n",
    "\n",
    "t_lst = np.zeros((n_rep, len(rho1_lst), 3)) - 100\n",
    "\n",
    "for n in range(n_rep):\n",
    "    omega, omega1, omega2 = simulation_r.huge_omega(\n",
    "        n_node=n_node, ratio_diff=ratio_diff, graph_type=\"scale-free-multi\", n_group=4,\n",
    "    )\n",
    "    g1_cov, g2_cov, comm_gt, diff_gt = simulation.prep_sim_from_two_omega(omega1, omega2)\n",
    "    dat1, dat2 = simulation.gen_sample_two_conditions(g1_cov, g2_cov, n1, n2)\n",
    "\n",
    "    for i, rho1 in enumerate(rho1_lst):\n",
    "        print(n, i)\n",
    "        tic = time.perf_counter()\n",
    "        t1_lst_ddn1, t2_lst_ddn1 = scan_r.scan_ddn(dat1, dat2, lambda1_rg=[rho1], lambda2=rho2, mthd='resi')\n",
    "        toc = time.perf_counter()\n",
    "        t_lst[n, i, 0] = toc - tic\n",
    "\n",
    "        tic = time.perf_counter()\n",
    "        t1_lst_ddn1, t2_lst_ddn1 = scan_r.scan_ddn(dat1, dat2, lambda1_rg=[rho1], lambda2=rho2, mthd='corr')\n",
    "        toc = time.perf_counter()\n",
    "        t_lst[n, i, 1] = toc - tic\n",
    "\n",
    "        tic = time.perf_counter()\n",
    "        t1_lst_ddn3, t2_lst_ddn3 = scan_r.scan_ddn(dat1, dat2, lambda1_rg=[rho1], lambda2=rho2, mthd='org')\n",
    "        toc = time.perf_counter()\n",
    "        t_lst[n, i, 2] = toc - tic\n"
   ]
  },
  {
   "cell_type": "code",
   "execution_count": null,
   "metadata": {},
   "outputs": [],
   "source": [
    "np.savez(f'timing_ddn3resi_ddn3corr_ddn2_n-node_{n_node}_n1_{n1}_n2_{n2}', dat1=dat1, dat2=dat2, t_lst=t_lst)"
   ]
  },
  {
   "cell_type": "code",
   "execution_count": null,
   "metadata": {},
   "outputs": [],
   "source": [
    "np.sum(np.mean(t_lst, axis=0),axis=0)"
   ]
  },
  {
   "cell_type": "markdown",
   "metadata": {},
   "source": [
    "Plot"
   ]
  },
  {
   "cell_type": "code",
   "execution_count": null,
   "metadata": {},
   "outputs": [],
   "source": [
    "# f0 = '../output_simulation/speed/timing_ddn3resi_ddn3corr_ddn2_n-node_100_n1_50_n2_50.npz'\n",
    "f0 = '../output_simulation/speed/timing_ddn3resi_ddn3corr_ddn2_n-node_200_n1_50_n2_50.npz'\n",
    "t_lst_ddn = np.load(f0)['t_lst']\n",
    "t_lst_ddn = np.mean(t_lst_ddn, axis=0)"
   ]
  },
  {
   "cell_type": "code",
   "execution_count": null,
   "metadata": {},
   "outputs": [],
   "source": [
    "# np.sum(t_lst_ddn, axis=0)"
   ]
  },
  {
   "cell_type": "code",
   "execution_count": null,
   "metadata": {},
   "outputs": [],
   "source": [
    "plt.plot(rho1_lst, t_lst_ddn[:,0], label='DDN-Resi')\n",
    "plt.plot(rho1_lst, t_lst_ddn[:,1], label='DDN-Corr')\n",
    "plt.plot(rho1_lst, t_lst_ddn[:,2], label='DDN 2.0')\n",
    "plt.legend()\n",
    "plt.xlabel('$\\lambda_1$')\n",
    "plt.ylabel(\"Time (s)\")\n",
    "plt.savefig(\"./sim_fig_out/speed_ddn3_ddn2_lambda1.png\")"
   ]
  },
  {
   "cell_type": "markdown",
   "metadata": {},
   "source": [
    "## DDN Impact of feature number\n",
    "Fix lambda1 and lambda2"
   ]
  },
  {
   "cell_type": "code",
   "execution_count": null,
   "metadata": {},
   "outputs": [],
   "source": [
    "n_node_lst = np.array([100, 200, 500, 1000, 2000])[::-1]\n",
    "n1, n2 = 100, 100\n",
    "\n",
    "rho1 = 0.3\n",
    "rho2 = 0.1\n",
    "\n",
    "t_lst = np.zeros((len(n_node_lst), 3)) - 100\n",
    "\n",
    "for n, n_node in enumerate(n_node_lst):\n",
    "    print(n)\n",
    "\n",
    "    omega, omega1, omega2 = simulation_r.huge_omega(\n",
    "        n_node=n_node, ratio_diff=0.25, graph_type=\"scale-free-multi\", n_group=4,\n",
    "    )\n",
    "    g1_cov, g2_cov, comm_gt, diff_gt = simulation.prep_sim_from_two_omega(omega1, omega2)\n",
    "    dat1, dat2 = simulation.gen_sample_two_conditions(g1_cov, g2_cov, n1, n2)\n",
    "\n",
    "    tic = time.perf_counter()\n",
    "    t1_lst_ddn1, t2_lst_ddn1 = scan_r.scan_ddn(dat1, dat2, lambda1_rg=[rho1], lambda2=rho2, mthd='resi')\n",
    "    toc = time.perf_counter()\n",
    "    t_lst[n, 0] = toc - tic\n",
    "\n",
    "    tic = time.perf_counter()\n",
    "    t1_lst_ddn1, t2_lst_ddn1 = scan_r.scan_ddn(dat1, dat2, lambda1_rg=[rho1], lambda2=rho2, mthd='corr')\n",
    "    toc = time.perf_counter()\n",
    "    t_lst[n, 1] = toc - tic\n",
    "\n",
    "    tic = time.perf_counter()\n",
    "    t1_lst_ddn3, t2_lst_ddn3 = scan_r.scan_ddn(dat1, dat2, lambda1_rg=[rho1], lambda2=rho2, mthd='org')\n",
    "    toc = time.perf_counter()\n",
    "    t_lst[n, 2] = toc - tic\n",
    "\n",
    "    print(t_lst[n])\n"
   ]
  },
  {
   "cell_type": "code",
   "execution_count": null,
   "metadata": {},
   "outputs": [],
   "source": [
    "np.savez(f'timing_ddn3resi_ddn3corr_ddn2_feature_n-node_{n_node}_n1_{n1}_n2_{n2}', dat1=dat1, dat2=dat2, t_lst=t_lst, n_node_lst=n_node_lst)"
   ]
  },
  {
   "cell_type": "markdown",
   "metadata": {},
   "source": [
    "Plot"
   ]
  },
  {
   "cell_type": "code",
   "execution_count": null,
   "metadata": {},
   "outputs": [],
   "source": [
    "temp = np.load(\"../output_simulation/speed/timing_ddn3resi_ddn3corr_ddn2_feature_n-node_100_n1_100_n2_100.npz\")\n",
    "t_lst = temp['t_lst']"
   ]
  },
  {
   "cell_type": "code",
   "execution_count": null,
   "metadata": {},
   "outputs": [],
   "source": [
    "n_node_lst = np.array([100, 200, 500, 1000, 2000])[::-1]\n",
    "fig, ax = plt.subplots(1,2,figsize=(11,4), layout=\"constrained\")\n",
    "ax[0].plot(n_node_lst, t_lst)\n",
    "ax[1].plot(n_node_lst, np.log10(t_lst))\n",
    "ax[0].set_xlabel(\"Feature number\")\n",
    "ax[0].set_ylabel(\"Time (s)\")\n",
    "ax[1].set_xlabel(\"Feature number\")\n",
    "ax[1].set_ylabel(\"log10(Time (s))\")\n",
    "fig.legend(['DDN-Resi', 'DDN-Corr', 'DDN 2.0'], loc=\"outside right center\")\n",
    "fig.savefig(\"./sim_fig_out/speed_ddn3_ddn2_feature.png\")"
   ]
  },
  {
   "cell_type": "markdown",
   "metadata": {},
   "source": [
    "## DDN impact of sample number"
   ]
  },
  {
   "cell_type": "code",
   "execution_count": null,
   "metadata": {},
   "outputs": [],
   "source": [
    "n_node = 100\n",
    "n_sample_lst = np.array([100, 200, 500, 1000, 2000, 5000, 10000])[::-1]\n",
    "\n",
    "rho1 = 0.3\n",
    "rho2 = 0.1\n",
    "\n",
    "t_lst = np.zeros((len(n_sample_lst), 3)) - 100\n",
    "\n",
    "for n, n_sample in enumerate(n_sample_lst):\n",
    "    print(n)\n",
    "\n",
    "    omega, omega1, omega2 = simulation_r.huge_omega(\n",
    "        n_node=n_node, ratio_diff=0.25, graph_type=\"scale-free-multi\", n_group=4,\n",
    "    )\n",
    "    g1_cov, g2_cov, comm_gt, diff_gt = simulation.prep_sim_from_two_omega(omega1, omega2)\n",
    "    dat1, dat2 = simulation.gen_sample_two_conditions(g1_cov, g2_cov, n_sample, n_sample)\n",
    "\n",
    "    tic = time.perf_counter()\n",
    "    t1_lst_ddn1, t2_lst_ddn1 = scan_r.scan_ddn(dat1, dat2, lambda1_rg=[rho1], lambda2=rho2, mthd='resi')\n",
    "    toc = time.perf_counter()\n",
    "    t_lst[n, 0] = toc - tic\n",
    "\n",
    "    tic = time.perf_counter()\n",
    "    t1_lst_ddn1, t2_lst_ddn1 = scan_r.scan_ddn(dat1, dat2, lambda1_rg=[rho1], lambda2=rho2, mthd='corr')\n",
    "    toc = time.perf_counter()\n",
    "    t_lst[n, 1] = toc - tic\n",
    "\n",
    "    tic = time.perf_counter()\n",
    "    t1_lst_ddn3, t2_lst_ddn3 = scan_r.scan_ddn(dat1, dat2, lambda1_rg=[rho1], lambda2=rho2, mthd='org')\n",
    "    toc = time.perf_counter()\n",
    "    t_lst[n, 2] = toc - tic\n",
    "\n",
    "    print(t_lst[n])\n"
   ]
  },
  {
   "cell_type": "code",
   "execution_count": null,
   "metadata": {},
   "outputs": [],
   "source": [
    "np.savez(f'timing_ddn3resi_ddn3corr_ddn2_sample_n-node_{n_node}_n1_{n1}_n2_{n2}', dat1=dat1, dat2=dat2, t_lst=t_lst, n_node_lst=n_node_lst)"
   ]
  },
  {
   "cell_type": "markdown",
   "metadata": {},
   "source": [
    "Plot"
   ]
  },
  {
   "cell_type": "code",
   "execution_count": null,
   "metadata": {},
   "outputs": [],
   "source": [
    "temp = np.load(\"../output_simulation/speed/timing_ddn3resi_ddn3corr_ddn2_sample_n-node_100_n1_100_n2_100.npz\")\n",
    "t_lst = temp['t_lst']"
   ]
  },
  {
   "cell_type": "code",
   "execution_count": null,
   "metadata": {},
   "outputs": [],
   "source": [
    "n_sample_lst = np.array([100, 200, 500, 1000, 2000, 5000, 10000])[::-1]\n",
    "fig, ax = plt.subplots(1,2,figsize=(11,4), layout=\"constrained\")\n",
    "ax[0].plot(n_sample_lst, t_lst)\n",
    "ax[1].plot(n_sample_lst, np.log10(t_lst))\n",
    "ax[0].set_xlabel(\"Sample number\")\n",
    "ax[0].set_ylabel(\"Time (s)\")\n",
    "ax[1].set_xlabel(\"Sample number\")\n",
    "ax[1].set_ylabel(\"log10(Time (s))\")\n",
    "fig.legend(['DDN-Resi', 'DDN-Corr', 'DDN 2.0'], loc=\"outside right center\")\n",
    "fig.savefig(\"./sim_fig_out/speed_ddn3_ddn2_sample.png\")"
   ]
  }
 ],
 "metadata": {
  "kernelspec": {
   "display_name": "ai",
   "language": "python",
   "name": "python3"
  },
  "language_info": {
   "codemirror_mode": {
    "name": "ipython",
    "version": 3
   },
   "file_extension": ".py",
   "mimetype": "text/x-python",
   "name": "python",
   "nbconvert_exporter": "python",
   "pygments_lexer": "ipython3",
   "version": "3.11.7"
  }
 },
 "nbformat": 4,
 "nbformat_minor": 2
}

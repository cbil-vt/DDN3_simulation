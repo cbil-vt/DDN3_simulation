{
 "cells": [
  {
   "cell_type": "markdown",
   "metadata": {},
   "source": [
    "# Figures that summarize DDN and JGL results"
   ]
  },
  {
   "cell_type": "code",
   "execution_count": null,
   "metadata": {},
   "outputs": [],
   "source": [
    "import numpy as np\n",
    "import matplotlib.pyplot as plt\n",
    "from ddn3 import simulation, performance\n",
    "import plot_simulation as ps\n",
    "\n",
    "%load_ext autoreload\n",
    "%autoreload 2"
   ]
  },
  {
   "cell_type": "markdown",
   "metadata": {},
   "source": [
    "Figures\n",
    "- 100 features, 200+200 samples\n",
    "- 100 features, 50+50 samples\n",
    "- 400 features, 200+200 samples\n",
    "- 100 features, 50+500 samples\n",
    "\n",
    "Each figure contains curve with lambda2 that can achieve best performance. Four network types. \n",
    "- Fig1: ROC for common. 8 curves. 4 for DDN, 4 for JGL.\n",
    "- Fig2: F1 for differential\n",
    "- Fig3: F1 for overall"
   ]
  },
  {
   "cell_type": "code",
   "execution_count": null,
   "metadata": {},
   "outputs": [],
   "source": [
    "dat_dir = \"../output_simulation/ddn_jgl/l1_002-002-100_l2_000-0025-015/\""
   ]
  },
  {
   "cell_type": "markdown",
   "metadata": {},
   "source": [
    "## Graph types"
   ]
  },
  {
   "cell_type": "markdown",
   "metadata": {},
   "source": [
    "200 samples"
   ]
  },
  {
   "cell_type": "code",
   "execution_count": null,
   "metadata": {},
   "outputs": [],
   "source": [
    "res_name_dict = dict(\n",
    "    random=\"res_ddn_jgl_random_n_20_n-node_100_200p200_group_0\",\n",
    "    hub=\"res_ddn_jgl_hub_n_20_n-node_100_200p200\",\n",
    "    cluster=\"res_ddn_jgl_cluster_n_20_n-node_100_200p200\",\n",
    "    scale_free_1=\"res_ddn_jgl_scale-free_n_20_n-node_100_200p200\",\n",
    "    scale_free_2=\"res_ddn_jgl_scale-free-multi_n_20_n-node_100_200p200_group_2\",\n",
    "    scale_free_4=\"res_ddn_jgl_scale-free-multi_n_20_n-node_100_200p200_group_4\",\n",
    ")\n",
    "\n",
    "curve_dict = ps.collect_curves(res_name_dict, dat_dir)"
   ]
  },
  {
   "cell_type": "code",
   "execution_count": null,
   "metadata": {},
   "outputs": [],
   "source": [
    "fig, ax = ps.draw_roc(curve_dict, scale_free=4)\n",
    "fig.savefig(f\"./figures/common_roc_node_100_sample_200.png\")"
   ]
  },
  {
   "cell_type": "code",
   "execution_count": null,
   "metadata": {},
   "outputs": [],
   "source": [
    "fig, ax = ps.draw_f1(curve_dict, x_type='f1_diff', scale_free=4)\n",
    "ax.set_xlim([0, 0.6])\n",
    "ax.set_ylim([0, 1.0])\n",
    "fig.savefig(f\"./figures/diff_f1_node_100_sample_200.png\")"
   ]
  },
  {
   "cell_type": "code",
   "execution_count": null,
   "metadata": {},
   "outputs": [],
   "source": [
    "fig, ax = ps.draw_f1(curve_dict, x_type='f1_mean', scale_free=4)\n",
    "ax.set_xlim([0, 0.6])\n",
    "ax.set_ylim([0, 1.0])\n",
    "fig.savefig(f\"./figures/mean_f1_node_100_sample_200.png\")"
   ]
  },
  {
   "cell_type": "markdown",
   "metadata": {},
   "source": [
    "50 samples"
   ]
  },
  {
   "cell_type": "code",
   "execution_count": null,
   "metadata": {},
   "outputs": [],
   "source": [
    "res_name_dict = dict(\n",
    "    random=\"res_ddn_jgl_random_n_40_n-node_100_50p50_group_0\",\n",
    "    hub=\"res_ddn_jgl_hub_n_20_n-node_100_50p50\",\n",
    "    cluster=\"res_ddn_jgl_cluster_n_20_n-node_100_50p50\",\n",
    "    scale_free_1=\"res_ddn_jgl_scale-free_n_50_n-node_100_50p50\",\n",
    "    scale_free_2=\"res_ddn_jgl_scale-free-multi_n_40_n-node_100_50p50_group_2\",\n",
    "    scale_free_4=\"res_ddn_jgl_scale-free-multi_n_40_n-node_100_50p50_group_4\",\n",
    ")\n",
    "\n",
    "curve_dict = ps.collect_curves(res_name_dict, dat_dir)"
   ]
  },
  {
   "cell_type": "code",
   "execution_count": null,
   "metadata": {},
   "outputs": [],
   "source": [
    "fig, ax = ps.draw_roc(curve_dict, scale_free=4)\n",
    "fig.savefig(f\"./figures/common_roc_node_100_sample_50.png\")\n",
    "\n",
    "fig, ax = ps.draw_f1(curve_dict, x_type='f1_diff', scale_free=4)\n",
    "ax.set_xlim([0, 0.6])\n",
    "ax.set_ylim([0, 0.45])\n",
    "fig.savefig(f\"./figures/diff_f1_node_100_sample_50.png\")\n",
    "\n",
    "fig, ax = ps.draw_f1(curve_dict, x_type='f1_mean', scale_free=4)\n",
    "ax.set_xlim([0, 0.6])\n",
    "ax.set_ylim([0, 0.65])\n",
    "fig.savefig(f\"./figures/mean_f1_node_100_sample_50.png\")"
   ]
  },
  {
   "cell_type": "markdown",
   "metadata": {},
   "source": [
    "## Feature numbers"
   ]
  },
  {
   "cell_type": "markdown",
   "metadata": {},
   "source": [
    "200 samples"
   ]
  },
  {
   "cell_type": "code",
   "execution_count": null,
   "metadata": {},
   "outputs": [],
   "source": [
    "res_name_dict = dict(\n",
    "    scale_free_4=\"res_ddn_jgl_scale-free-multi_n_20_n-node_100_200p200_group_4\",\n",
    "    scale_free_8_200=\"res_ddn_jgl_scale-free-multi_n_20_n-node_200_200p200_group_8\",\n",
    "    scale_free_16_400=\"res_ddn_jgl_scale-free-multi_n_20_n-node_400_200p200_group_16\",\n",
    ")\n",
    "curve_dict = ps.collect_curves(res_name_dict, dat_dir)"
   ]
  },
  {
   "cell_type": "code",
   "execution_count": null,
   "metadata": {},
   "outputs": [],
   "source": [
    "fig, ax = ps.draw_roc_feature_num(curve_dict)\n",
    "fig.savefig(f\"./figures/common_roc_node_100_200_400_sample_200.png\")\n",
    "\n",
    "fig, ax = ps.draw_f1_feature_num(curve_dict, x_type='f1_diff')\n",
    "ax.set_xlim([0, 0.6])\n",
    "ax.set_ylim([0, 1])\n",
    "fig.savefig(f\"./figures/diff_f1_node_100_200_400_sample_200.png\")\n",
    "\n",
    "fig, ax = ps.draw_f1_feature_num(curve_dict, x_type='f1_mean')\n",
    "ax.set_xlim([0, 0.6])\n",
    "ax.set_ylim([0, 1])\n",
    "fig.savefig(f\"./figures/mean_f1_node_100_200_400_sample_200.png\")"
   ]
  },
  {
   "cell_type": "markdown",
   "metadata": {},
   "source": [
    "50 samples"
   ]
  },
  {
   "cell_type": "code",
   "execution_count": null,
   "metadata": {},
   "outputs": [],
   "source": [
    "res_name_dict = dict(\n",
    "    scale_free_4=\"res_ddn_jgl_scale-free-multi_n_40_n-node_100_50p50_group_4\",\n",
    "    scale_free_8_200=\"res_ddn_jgl_scale-free-multi_n_40_n-node_200_50p50_group_8\",\n",
    "    scale_free_16_400=\"res_ddn_jgl_scale-free-multi_n_40_n-node_400_50p50_group_16\",\n",
    ")\n",
    "curve_dict = ps.collect_curves(res_name_dict, dat_dir)"
   ]
  },
  {
   "cell_type": "code",
   "execution_count": null,
   "metadata": {},
   "outputs": [],
   "source": [
    "fig, ax = ps.draw_roc_feature_num(curve_dict)\n",
    "fig.savefig(f\"./figures/common_roc_node_100_200_400_sample_50.png\")\n",
    "\n",
    "fig, ax = ps.draw_f1_feature_num(curve_dict, x_type='f1_diff')\n",
    "ax.set_xlim([0, 0.6])\n",
    "ax.set_ylim([0, 0.45])\n",
    "fig.savefig(f\"./figures/diff_f1_node_100_200_400_sample_50.png\")\n",
    "\n",
    "fig, ax = ps.draw_f1_feature_num(curve_dict, x_type='f1_mean')\n",
    "ax.set_xlim([0, 0.6])\n",
    "ax.set_ylim([0, 0.65])\n",
    "fig.savefig(f\"./figures/mean_f1_node_100_200_400_sample_50.png\")"
   ]
  },
  {
   "cell_type": "markdown",
   "metadata": {},
   "source": [
    "## Unbalanced samples"
   ]
  },
  {
   "cell_type": "code",
   "execution_count": null,
   "metadata": {},
   "outputs": [],
   "source": [
    "res_name_dict = dict(\n",
    "    balanced=\"res_ddn_jgl_scale-free-multi_n_20_n-node_100_275p275_group_2_jgl-weights_equal\",\n",
    "    balanced_not=\"res_ddn_jgl_scale-free-multi_n_20_n-node_100_50p500_group_2_jgl-weights_equal\",\n",
    ")\n",
    "curve_dict = ps.collect_curves(res_name_dict, dat_dir)"
   ]
  },
  {
   "cell_type": "code",
   "execution_count": null,
   "metadata": {},
   "outputs": [],
   "source": [
    "fig, ax = ps.draw_roc_balance(curve_dict)\n",
    "fig.savefig(f\"./figures/common_roc_node_100_sample_balanced.png\")\n",
    "\n",
    "fig, ax = ps.draw_f1_balance(curve_dict, x_type='f1_diff')\n",
    "ax.set_xlim([0, 0.6])\n",
    "ax.set_ylim([0, 1])\n",
    "fig.savefig(f\"./figures/diff_f1_node_100_sample_balanced.png\")\n",
    "\n",
    "fig, ax = ps.draw_f1_balance(curve_dict, x_type='f1_mean')\n",
    "ax.set_xlim([0, 0.6])\n",
    "ax.set_ylim([0, 1])\n",
    "fig.savefig(f\"./figures/mean_f1_node_100_sample_balanced.png\")"
   ]
  },
  {
   "cell_type": "code",
   "execution_count": null,
   "metadata": {},
   "outputs": [],
   "source": []
  }
 ],
 "metadata": {
  "kernelspec": {
   "display_name": "ai",
   "language": "python",
   "name": "python3"
  },
  "language_info": {
   "codemirror_mode": {
    "name": "ipython",
    "version": 3
   },
   "file_extension": ".py",
   "mimetype": "text/x-python",
   "name": "python",
   "nbconvert_exporter": "python",
   "pygments_lexer": "ipython3",
   "version": "3.11.7"
  }
 },
 "nbformat": 4,
 "nbformat_minor": 2
}

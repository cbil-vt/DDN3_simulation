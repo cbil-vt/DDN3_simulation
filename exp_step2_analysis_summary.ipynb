{
 "cells": [
  {
   "cell_type": "markdown",
   "metadata": {},
   "source": [
    "# Figures that summarize DDN and JGL results"
   ]
  },
  {
   "cell_type": "code",
   "metadata": {
    "ExecuteTime": {
     "end_time": "2024-04-13T17:14:15.583347Z",
     "start_time": "2024-04-13T17:14:12.009889Z"
    }
   },
   "source": [
    "import matplotlib.pyplot as plt\n",
    "from ddn3_extra import plot_simulation as ps\n",
    "\n",
    "%load_ext autoreload\n",
    "%autoreload 2"
   ],
   "execution_count": 1,
   "outputs": []
  },
  {
   "metadata": {
    "ExecuteTime": {
     "end_time": "2024-04-13T17:14:44.144352Z",
     "start_time": "2024-04-13T17:14:44.090473Z"
    }
   },
   "cell_type": "code",
   "source": [
    "from cycler import cycler\n",
    "default_cycler = (cycler(color=[\"#1F77B4\", \"#FF7F0E\", \"#3A3A3A\", \"#5CCEB3\"]))\n",
    "plt.rc('axes', prop_cycle=default_cycler)\n",
    "\n",
    "# import matplotlib\n",
    "# matplotlib.rcParams.update({'font.size': 12})"
   ],
   "execution_count": 3,
   "outputs": []
  },
  {
   "cell_type": "markdown",
   "metadata": {},
   "source": [
    "Figures\n",
    "- 100 features, 200+200 samples\n",
    "- 100 features, 50+50 samples\n",
    "- 400 features, 200+200 samples\n",
    "- 100 features, 50+500 samples\n",
    "\n",
    "Each figure contains curve with lambda2 that can achieve best performance. Four network types. \n",
    "- Fig1: ROC for common. 8 curves. 4 for DDN, 4 for JGL.\n",
    "- Fig2: F1 for differential\n",
    "- Fig3: F1 for overall"
   ]
  },
  {
   "cell_type": "code",
   "metadata": {
    "ExecuteTime": {
     "end_time": "2024-04-13T17:14:46.250175Z",
     "start_time": "2024-04-13T17:14:46.189321Z"
    }
   },
   "source": [
    "dat_dir = \"../../../x_output/ddn/ddn_jgl/l1_002-002-100_l2_000-0025-015/\"\n",
    "\n",
    "import os\n",
    "os.path.isdir(dat_dir)"
   ],
   "execution_count": 4,
   "outputs": []
  },
  {
   "cell_type": "markdown",
   "metadata": {},
   "source": [
    "## Graph types"
   ]
  },
  {
   "cell_type": "markdown",
   "metadata": {},
   "source": [
    "200 samples"
   ]
  },
  {
   "cell_type": "code",
   "metadata": {
    "ExecuteTime": {
     "end_time": "2024-04-13T17:14:48.334623Z",
     "start_time": "2024-04-13T17:14:48.263811Z"
    }
   },
   "source": [
    "res_name_dict = dict(\n",
    "    random=\"res_ddn_jgl_random_n_20_n-node_100_200p200_group_0\",\n",
    "    hub=\"res_ddn_jgl_hub_n_20_n-node_100_200p200\",\n",
    "    cluster=\"res_ddn_jgl_cluster_n_20_n-node_100_200p200\",\n",
    "    scale_free_1=\"res_ddn_jgl_scale-free_n_20_n-node_100_200p200\",\n",
    "    scale_free_2=\"res_ddn_jgl_scale-free-multi_n_20_n-node_100_200p200_group_2\",\n",
    "    scale_free_4=\"res_ddn_jgl_scale-free-multi_n_20_n-node_100_200p200_group_4\",\n",
    ")\n",
    "\n",
    "curve_dict = ps.collect_curves(res_name_dict, dat_dir)"
   ],
   "execution_count": 5,
   "outputs": []
  },
  {
   "cell_type": "code",
   "metadata": {
    "ExecuteTime": {
     "end_time": "2024-04-13T17:16:14.278038Z",
     "start_time": "2024-04-13T17:16:13.700582Z"
    }
   },
   "source": [
    "fig, ax = ps.draw_roc(curve_dict, scale_free=4)\n",
    "fig.savefig(f\"./figures/common_roc_node_100_sample_200.svg\")\n",
    "# fig.savefig(f\"./figures/common_roc_node_100_sample_200.png\")"
   ],
   "execution_count": 7,
   "outputs": []
  },
  {
   "cell_type": "code",
   "metadata": {
    "ExecuteTime": {
     "end_time": "2024-04-13T16:53:19.522578Z",
     "start_time": "2024-04-13T16:53:19.017929Z"
    }
   },
   "source": [
    "fig, ax = ps.draw_f1(curve_dict, x_type='f1_diff', scale_free=4)\n",
    "ax.set_xlim([0, 0.6])\n",
    "ax.set_ylim([0, 1.0])\n",
    "fig.savefig(f\"./figures/diff_f1_node_100_sample_200.svg\")"
   ],
   "execution_count": 10,
   "outputs": []
  },
  {
   "cell_type": "code",
   "metadata": {
    "ExecuteTime": {
     "end_time": "2024-04-13T16:53:23.151355Z",
     "start_time": "2024-04-13T16:53:22.674626Z"
    }
   },
   "source": [
    "fig, ax = ps.draw_f1(curve_dict, x_type='f1_mean', scale_free=4)\n",
    "ax.set_xlim([0, 0.6])\n",
    "ax.set_ylim([0, 1.0])\n",
    "fig.savefig(f\"./figures/mean_f1_node_100_sample_200.svg\")"
   ],
   "execution_count": 11,
   "outputs": []
  },
  {
   "cell_type": "markdown",
   "metadata": {},
   "source": [
    "50 samples"
   ]
  },
  {
   "cell_type": "code",
   "metadata": {
    "ExecuteTime": {
     "end_time": "2024-04-13T16:53:26.803621Z",
     "start_time": "2024-04-13T16:53:26.695766Z"
    }
   },
   "source": [
    "res_name_dict = dict(\n",
    "    random=\"res_ddn_jgl_random_n_40_n-node_100_50p50_group_0\",\n",
    "    hub=\"res_ddn_jgl_hub_n_20_n-node_100_50p50\",\n",
    "    cluster=\"res_ddn_jgl_cluster_n_20_n-node_100_50p50\",\n",
    "    scale_free_1=\"res_ddn_jgl_scale-free_n_50_n-node_100_50p50\",\n",
    "    scale_free_2=\"res_ddn_jgl_scale-free-multi_n_40_n-node_100_50p50_group_2\",\n",
    "    scale_free_4=\"res_ddn_jgl_scale-free-multi_n_40_n-node_100_50p50_group_4\",\n",
    ")\n",
    "\n",
    "curve_dict = ps.collect_curves(res_name_dict, dat_dir)"
   ],
   "execution_count": 12,
   "outputs": []
  },
  {
   "cell_type": "code",
   "metadata": {
    "ExecuteTime": {
     "end_time": "2024-04-13T16:53:30.285104Z",
     "start_time": "2024-04-13T16:53:28.820663Z"
    }
   },
   "source": [
    "fig, ax = ps.draw_roc(curve_dict, scale_free=4)\n",
    "fig.savefig(f\"./figures/common_roc_node_100_sample_50.svg\")\n",
    "\n",
    "fig, ax = ps.draw_f1(curve_dict, x_type='f1_diff', scale_free=4)\n",
    "ax.set_xlim([0, 0.6])\n",
    "ax.set_ylim([0, 0.45])\n",
    "fig.savefig(f\"./figures/diff_f1_node_100_sample_50.svg\")\n",
    "\n",
    "fig, ax = ps.draw_f1(curve_dict, x_type='f1_mean', scale_free=4)\n",
    "ax.set_xlim([0, 0.6])\n",
    "ax.set_ylim([0, 0.65])\n",
    "fig.savefig(f\"./figures/mean_f1_node_100_sample_50.svg\")"
   ],
   "execution_count": 13,
   "outputs": []
  },
  {
   "cell_type": "markdown",
   "metadata": {},
   "source": [
    "## Feature numbers"
   ]
  },
  {
   "cell_type": "markdown",
   "metadata": {},
   "source": [
    "200 samples"
   ]
  },
  {
   "cell_type": "code",
   "metadata": {
    "ExecuteTime": {
     "end_time": "2024-04-13T16:53:35.008031Z",
     "start_time": "2024-04-13T16:53:34.929567Z"
    }
   },
   "source": [
    "res_name_dict = dict(\n",
    "    scale_free_4=\"res_ddn_jgl_scale-free-multi_n_20_n-node_100_200p200_group_4\",\n",
    "    scale_free_8_200=\"res_ddn_jgl_scale-free-multi_n_20_n-node_200_200p200_group_8\",\n",
    "    scale_free_16_400=\"res_ddn_jgl_scale-free-multi_n_20_n-node_400_200p200_group_16\",\n",
    ")\n",
    "curve_dict = ps.collect_curves(res_name_dict, dat_dir)"
   ],
   "execution_count": 14,
   "outputs": []
  },
  {
   "cell_type": "code",
   "metadata": {
    "ExecuteTime": {
     "end_time": "2024-04-13T16:53:38.793791Z",
     "start_time": "2024-04-13T16:53:37.531015Z"
    }
   },
   "source": [
    "fig, ax = ps.draw_roc_feature_num(curve_dict)\n",
    "fig.savefig(f\"./figures/common_roc_node_100_200_400_sample_200.svg\")\n",
    "\n",
    "fig, ax = ps.draw_f1_feature_num(curve_dict, x_type='f1_diff')\n",
    "ax.set_xlim([0, 0.6])\n",
    "ax.set_ylim([0, 1])\n",
    "fig.savefig(f\"./figures/diff_f1_node_100_200_400_sample_200.svg\")\n",
    "\n",
    "fig, ax = ps.draw_f1_feature_num(curve_dict, x_type='f1_mean')\n",
    "ax.set_xlim([0, 0.6])\n",
    "ax.set_ylim([0, 1])\n",
    "fig.savefig(f\"./figures/mean_f1_node_100_200_400_sample_200.svg\")"
   ],
   "execution_count": 15,
   "outputs": []
  },
  {
   "cell_type": "markdown",
   "metadata": {},
   "source": [
    "50 samples"
   ]
  },
  {
   "cell_type": "code",
   "metadata": {
    "ExecuteTime": {
     "end_time": "2024-04-13T16:53:42.137350Z",
     "start_time": "2024-04-13T16:53:42.067523Z"
    }
   },
   "source": [
    "res_name_dict = dict(\n",
    "    scale_free_4=\"res_ddn_jgl_scale-free-multi_n_40_n-node_100_50p50_group_4\",\n",
    "    scale_free_8_200=\"res_ddn_jgl_scale-free-multi_n_40_n-node_200_50p50_group_8\",\n",
    "    scale_free_16_400=\"res_ddn_jgl_scale-free-multi_n_40_n-node_400_50p50_group_16\",\n",
    ")\n",
    "curve_dict = ps.collect_curves(res_name_dict, dat_dir)"
   ],
   "execution_count": 16,
   "outputs": []
  },
  {
   "cell_type": "code",
   "metadata": {
    "ExecuteTime": {
     "end_time": "2024-04-13T16:53:45.021034Z",
     "start_time": "2024-04-13T16:53:43.718131Z"
    }
   },
   "source": [
    "fig, ax = ps.draw_roc_feature_num(curve_dict)\n",
    "fig.savefig(f\"./figures/common_roc_node_100_200_400_sample_50.svg\")\n",
    "\n",
    "fig, ax = ps.draw_f1_feature_num(curve_dict, x_type='f1_diff')\n",
    "ax.set_xlim([0, 0.6])\n",
    "ax.set_ylim([0, 0.45])\n",
    "fig.savefig(f\"./figures/diff_f1_node_100_200_400_sample_50.svg\")\n",
    "\n",
    "fig, ax = ps.draw_f1_feature_num(curve_dict, x_type='f1_mean')\n",
    "ax.set_xlim([0, 0.6])\n",
    "ax.set_ylim([0, 0.65])\n",
    "fig.savefig(f\"./figures/mean_f1_node_100_200_400_sample_50.svg\")"
   ],
   "execution_count": 17,
   "outputs": []
  },
  {
   "cell_type": "markdown",
   "metadata": {},
   "source": [
    "## Unbalanced samples"
   ]
  },
  {
   "cell_type": "code",
   "execution_count": null,
   "metadata": {},
   "source": [
    "res_name_dict = dict(\n",
    "    balanced=\"res_ddn_jgl_scale-free-multi_n_20_n-node_100_275p275_group_2_jgl-weights_equal\",\n",
    "    balanced_not=\"res_ddn_jgl_scale-free-multi_n_20_n-node_100_50p500_group_2_jgl-weights_equal\",\n",
    ")\n",
    "curve_dict = ps.collect_curves(res_name_dict, dat_dir)"
   ],
   "outputs": []
  },
  {
   "cell_type": "code",
   "execution_count": null,
   "metadata": {},
   "source": [
    "fig, ax = ps.draw_roc_balance(curve_dict)\n",
    "fig.savefig(f\"./figures/common_roc_node_100_sample_balanced.svg\")\n",
    "\n",
    "fig, ax = ps.draw_f1_balance(curve_dict, x_type='f1_diff')\n",
    "ax.set_xlim([0, 0.6])\n",
    "ax.set_ylim([0, 1])\n",
    "fig.savefig(f\"./figures/diff_f1_node_100_sample_balanced.svg\")\n",
    "\n",
    "fig, ax = ps.draw_f1_balance(curve_dict, x_type='f1_mean')\n",
    "ax.set_xlim([0, 0.6])\n",
    "ax.set_ylim([0, 1])\n",
    "fig.savefig(f\"./figures/mean_f1_node_100_sample_balanced.svg\")"
   ],
   "outputs": []
  },
  {
   "cell_type": "code",
   "execution_count": null,
   "metadata": {},
   "source": [],
   "outputs": []
  }
 ],
 "metadata": {
  "kernelspec": {
   "display_name": "ai",
   "language": "python",
   "name": "python3"
  },
  "language_info": {
   "codemirror_mode": {
    "name": "ipython",
    "version": 3
   },
   "file_extension": ".py",
   "mimetype": "text/x-python",
   "name": "python",
   "nbconvert_exporter": "python",
   "pygments_lexer": "ipython3",
   "version": "3.11.7"
  }
 },
 "nbformat": 4,
 "nbformat_minor": 2
}

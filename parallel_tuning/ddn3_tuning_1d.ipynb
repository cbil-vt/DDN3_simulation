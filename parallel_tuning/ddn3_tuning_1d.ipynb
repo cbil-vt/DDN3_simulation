{
 "cells": [
  {
   "cell_type": "markdown",
   "metadata": {},
   "source": [
    "# Tuning parameters for RNA, Ribo, and protein datasets"
   ]
  },
  {
   "cell_type": "code",
   "execution_count": 26,
   "metadata": {
    "ExecuteTime": {
     "end_time": "2024-07-22T19:57:24.583164Z",
     "start_time": "2024-07-22T19:57:24.565462Z"
    }
   },
   "outputs": [
    {
     "data": {
      "text/plain": [
       "<module 'parameter_tuning_parallel' from 'E:\\\\OneDrive - Virginia Tech\\\\x_code\\\\ddn\\\\try_exp\\\\data_qiuman\\\\parameter_tuning_parallel.py'>"
      ]
     },
     "execution_count": 26,
     "metadata": {},
     "output_type": "execute_result"
    }
   ],
   "source": [
    "from importlib import reload\n",
    "import numpy as np\n",
    "import pandas as pd\n",
    "import matplotlib.pyplot as plt\n",
    "from ddn3 import tools, ddn\n",
    "import parameter_tuning_parallel as parameter_tuning\n",
    "reload(parameter_tuning)"
   ]
  },
  {
   "cell_type": "code",
   "execution_count": 28,
   "metadata": {
    "ExecuteTime": {
     "end_time": "2024-07-22T19:57:56.795160Z",
     "start_time": "2024-07-22T19:57:52.451783Z"
    }
   },
   "outputs": [],
   "source": [
    "# Put the three data in the same folder of this notebook\n",
    "dat_rna = pd.read_csv(\"sub.expr.rna.transport\", sep='\\s+', header=None).to_numpy()\n",
    "dat_ribo = pd.read_csv(\"sub.expr.ribo.transport\", sep='\\s+', header=None).to_numpy()\n",
    "dat_protein = pd.read_csv(\"sub.expr.protein.transport\", sep='\\s+', header=None).to_numpy()\n",
    "\n",
    "# The number of cores in the computer\n",
    "cores = 16"
   ]
  },
  {
   "cell_type": "markdown",
   "metadata": {},
   "source": [
    "Three data pairs"
   ]
  },
  {
   "cell_type": "code",
   "execution_count": 81,
   "metadata": {
    "ExecuteTime": {
     "end_time": "2024-07-23T05:02:25.808892Z",
     "start_time": "2024-07-23T05:02:25.799368Z"
    }
   },
   "outputs": [],
   "source": [
    "# dat1 = dat_rna\n",
    "# dat2 = dat_ribo\n",
    "\n",
    "# dat1 = dat_rna\n",
    "# dat2 = dat_protein\n",
    "\n",
    "dat1 = dat_ribo\n",
    "dat2 = dat_protein\n",
    "\n",
    "cv_max_deg = np.zeros(dat1.shape[1]) + 200"
   ]
  },
  {
   "cell_type": "markdown",
   "metadata": {},
   "source": [
    "## First round of search of lambda1"
   ]
  },
  {
   "cell_type": "code",
   "execution_count": 82,
   "metadata": {
    "ExecuteTime": {
     "end_time": "2024-07-23T05:02:27.987039Z",
     "start_time": "2024-07-23T05:02:27.978543Z"
    }
   },
   "outputs": [],
   "source": [
    "l1_list_1 = np.arange(0.1, 0.805, 0.1)"
   ]
  },
  {
   "cell_type": "code",
   "execution_count": 83,
   "metadata": {
    "ExecuteTime": {
     "end_time": "2024-07-23T05:02:30.368435Z",
     "start_time": "2024-07-23T05:02:30.359686Z"
    }
   },
   "outputs": [],
   "source": [
    "dp_l1_1 = parameter_tuning.DDNParameterSearch(\n",
    "    dat1,\n",
    "    dat2,\n",
    "    n_cv=5,\n",
    "    ratio_validation=0.5, \n",
    "    lambda1_list=l1_list_1,\n",
    "    lambda2_list=[0.05],\n",
    "    cores=cores,\n",
    "    cv_max_edge=cv_max_deg,\n",
    ")"
   ]
  },
  {
   "cell_type": "code",
   "execution_count": 84,
   "metadata": {
    "ExecuteTime": {
     "end_time": "2024-07-23T05:22:26.265976Z",
     "start_time": "2024-07-23T05:02:32.654799Z"
    }
   },
   "outputs": [
    {
     "name": "stdout",
     "output_type": "stream",
     "text": [
      "0 0 0 s0\n",
      "0 0 0 s1\n",
      "High rec error\n",
      "0 1 0 s0\n",
      "0 1 0 s1\n",
      "0 2 0 s0\n",
      "0 2 0 s1\n",
      "0 3 0 s0\n",
      "0 3 0 s1\n",
      "0 4 0 s0\n",
      "0 4 0 s1\n",
      "0 5 0 s0\n",
      "0 5 0 s1\n",
      "0 6 0 s0\n",
      "0 6 0 s1\n",
      "0 7 0 s0\n",
      "0 7 0 s1\n",
      "1 0 0 s0\n",
      "1 0 0 s1\n",
      "High rec error\n",
      "1 1 0 s0\n",
      "1 1 0 s1\n",
      "1 2 0 s0\n",
      "1 2 0 s1\n",
      "1 3 0 s0\n",
      "1 3 0 s1\n",
      "1 4 0 s0\n",
      "1 4 0 s1\n",
      "1 5 0 s0\n",
      "1 5 0 s1\n",
      "1 6 0 s0\n",
      "1 6 0 s1\n",
      "1 7 0 s0\n",
      "1 7 0 s1\n",
      "2 0 0 s0\n",
      "2 0 0 s1\n",
      "High rec error\n",
      "2 1 0 s0\n",
      "2 1 0 s1\n",
      "2 2 0 s0\n",
      "2 2 0 s1\n",
      "2 3 0 s0\n",
      "2 3 0 s1\n",
      "2 4 0 s0\n",
      "2 4 0 s1\n",
      "2 5 0 s0\n",
      "2 5 0 s1\n",
      "2 6 0 s0\n",
      "2 6 0 s1\n",
      "2 7 0 s0\n",
      "2 7 0 s1\n",
      "3 0 0 s0\n",
      "3 0 0 s1\n",
      "High rec error\n",
      "3 1 0 s0\n",
      "3 1 0 s1\n",
      "3 2 0 s0\n",
      "3 2 0 s1\n",
      "3 3 0 s0\n",
      "3 3 0 s1\n",
      "3 4 0 s0\n",
      "3 4 0 s1\n",
      "3 5 0 s0\n",
      "3 5 0 s1\n",
      "3 6 0 s0\n",
      "3 6 0 s1\n",
      "3 7 0 s0\n",
      "3 7 0 s1\n",
      "4 0 0 s0\n",
      "4 0 0 s1\n",
      "High rec error\n",
      "4 1 0 s0\n",
      "4 1 0 s1\n",
      "4 2 0 s0\n",
      "4 2 0 s1\n",
      "4 3 0 s0\n",
      "4 3 0 s1\n",
      "4 4 0 s0\n",
      "4 4 0 s1\n",
      "4 5 0 s0\n",
      "4 5 0 s1\n",
      "4 6 0 s0\n",
      "4 6 0 s1\n",
      "4 7 0 s0\n",
      "4 7 0 s1\n"
     ]
    }
   ],
   "source": [
    "val_err_l1_1, _, _ = dp_l1_1.fit(\"cv_joint\")"
   ]
  },
  {
   "cell_type": "markdown",
   "metadata": {},
   "source": [
    "The output (val_err_0) is of shape (number of CV, number of lambda1, number of lambda2)"
   ]
  },
  {
   "cell_type": "code",
   "execution_count": 85,
   "metadata": {
    "ExecuteTime": {
     "end_time": "2024-07-23T05:22:35.091685Z",
     "start_time": "2024-07-23T05:22:34.822919Z"
    }
   },
   "outputs": [
    {
     "data": {
      "image/png": "[encoded data removed]",
      "text/plain": [
       "<Figure size 640x480 with 1 Axes>"
      ]
     },
     "metadata": {},
     "output_type": "display_data"
    }
   ],
   "source": [
    "# val_avg = np.mean(val_err_l1_1, axis=0)\n",
    "# val_std = np.std(val_err_l1_1, axis=0)\n",
    "parameter_tuning.plot_error_1d(val_err_l1_1.squeeze(), lambda_lst=l1_list_1)"
   ]
  },
  {
   "cell_type": "markdown",
   "metadata": {},
   "source": [
    "## Second round of search of lambda1\n",
    "We use a smaller search range with finer grids based on the results of the first round"
   ]
  },
  {
   "cell_type": "code",
   "execution_count": 86,
   "metadata": {
    "ExecuteTime": {
     "end_time": "2024-07-23T05:22:59.111151Z",
     "start_time": "2024-07-23T05:22:59.104496Z"
    }
   },
   "outputs": [],
   "source": [
    "l1_list_2 = np.arange(0.15, 0.351, 0.025)"
   ]
  },
  {
   "cell_type": "code",
   "execution_count": 87,
   "metadata": {
    "ExecuteTime": {
     "end_time": "2024-07-23T05:23:02.584045Z",
     "start_time": "2024-07-23T05:23:02.578286Z"
    }
   },
   "outputs": [],
   "source": [
    "dp_l1_2 = parameter_tuning.DDNParameterSearch(\n",
    "    dat1,\n",
    "    dat2,\n",
    "    n_cv=10,\n",
    "    ratio_validation=0.5, \n",
    "    lambda1_list=l1_list_2,\n",
    "    lambda2_list=[0.05,],\n",
    "    cores=cores,\n",
    "    cv_max_edge=cv_max_deg,\n",
    ")"
   ]
  },
  {
   "cell_type": "code",
   "execution_count": 88,
   "metadata": {
    "ExecuteTime": {
     "end_time": "2024-07-23T06:09:50.243896Z",
     "start_time": "2024-07-23T05:23:04.773804Z"
    }
   },
   "outputs": [
    {
     "name": "stdout",
     "output_type": "stream",
     "text": [
      "0 0 0 s0\n",
      "0 0 0 s1\n",
      "0 1 0 s0\n",
      "0 1 0 s1\n",
      "0 2 0 s0\n",
      "0 2 0 s1\n",
      "0 3 0 s0\n",
      "0 3 0 s1\n",
      "0 4 0 s0\n",
      "0 4 0 s1\n",
      "0 5 0 s0\n",
      "0 5 0 s1\n",
      "0 6 0 s0\n",
      "0 6 0 s1\n",
      "0 7 0 s0\n",
      "0 7 0 s1\n",
      "0 8 0 s0\n",
      "0 8 0 s1\n",
      "1 0 0 s0\n",
      "1 0 0 s1\n",
      "1 1 0 s0\n",
      "1 1 0 s1\n",
      "1 2 0 s0\n",
      "1 2 0 s1\n",
      "1 3 0 s0\n",
      "1 3 0 s1\n",
      "1 4 0 s0\n",
      "1 4 0 s1\n",
      "1 5 0 s0\n",
      "1 5 0 s1\n",
      "1 6 0 s0\n",
      "1 6 0 s1\n",
      "1 7 0 s0\n",
      "1 7 0 s1\n",
      "1 8 0 s0\n",
      "1 8 0 s1\n",
      "2 0 0 s0\n",
      "2 0 0 s1\n",
      "2 1 0 s0\n",
      "2 1 0 s1\n",
      "2 2 0 s0\n",
      "2 2 0 s1\n",
      "2 3 0 s0\n",
      "2 3 0 s1\n",
      "2 4 0 s0\n",
      "2 4 0 s1\n",
      "2 5 0 s0\n",
      "2 5 0 s1\n",
      "2 6 0 s0\n",
      "2 6 0 s1\n",
      "2 7 0 s0\n",
      "2 7 0 s1\n",
      "2 8 0 s0\n",
      "2 8 0 s1\n",
      "3 0 0 s0\n",
      "3 0 0 s1\n",
      "3 1 0 s0\n",
      "3 1 0 s1\n",
      "3 2 0 s0\n",
      "3 2 0 s1\n",
      "3 3 0 s0\n",
      "3 3 0 s1\n",
      "3 4 0 s0\n",
      "3 4 0 s1\n",
      "3 5 0 s0\n",
      "3 5 0 s1\n",
      "3 6 0 s0\n",
      "3 6 0 s1\n",
      "3 7 0 s0\n",
      "3 7 0 s1\n",
      "3 8 0 s0\n",
      "3 8 0 s1\n",
      "4 0 0 s0\n",
      "4 0 0 s1\n",
      "4 1 0 s0\n",
      "4 1 0 s1\n",
      "4 2 0 s0\n",
      "4 2 0 s1\n",
      "4 3 0 s0\n",
      "4 3 0 s1\n",
      "4 4 0 s0\n",
      "4 4 0 s1\n",
      "4 5 0 s0\n",
      "4 5 0 s1\n",
      "4 6 0 s0\n",
      "4 6 0 s1\n",
      "4 7 0 s0\n",
      "4 7 0 s1\n",
      "4 8 0 s0\n",
      "4 8 0 s1\n",
      "5 0 0 s0\n",
      "5 0 0 s1\n",
      "5 1 0 s0\n",
      "5 1 0 s1\n",
      "5 2 0 s0\n",
      "5 2 0 s1\n",
      "5 3 0 s0\n",
      "5 3 0 s1\n",
      "5 4 0 s0\n",
      "5 4 0 s1\n",
      "5 5 0 s0\n",
      "5 5 0 s1\n",
      "5 6 0 s0\n",
      "5 6 0 s1\n",
      "5 7 0 s0\n",
      "5 7 0 s1\n",
      "5 8 0 s0\n",
      "5 8 0 s1\n",
      "6 0 0 s0\n",
      "6 0 0 s1\n",
      "6 1 0 s0\n",
      "6 1 0 s1\n",
      "6 2 0 s0\n",
      "6 2 0 s1\n",
      "6 3 0 s0\n",
      "6 3 0 s1\n",
      "6 4 0 s0\n",
      "6 4 0 s1\n",
      "6 5 0 s0\n",
      "6 5 0 s1\n",
      "6 6 0 s0\n",
      "6 6 0 s1\n",
      "6 7 0 s0\n",
      "6 7 0 s1\n",
      "6 8 0 s0\n",
      "6 8 0 s1\n",
      "7 0 0 s0\n",
      "7 0 0 s1\n",
      "7 1 0 s0\n",
      "7 1 0 s1\n",
      "7 2 0 s0\n",
      "7 2 0 s1\n",
      "7 3 0 s0\n",
      "7 3 0 s1\n",
      "7 4 0 s0\n",
      "7 4 0 s1\n",
      "7 5 0 s0\n",
      "7 5 0 s1\n",
      "7 6 0 s0\n",
      "7 6 0 s1\n",
      "7 7 0 s0\n",
      "7 7 0 s1\n",
      "7 8 0 s0\n",
      "7 8 0 s1\n",
      "8 0 0 s0\n",
      "8 0 0 s1\n",
      "8 1 0 s0\n",
      "8 1 0 s1\n",
      "8 2 0 s0\n",
      "8 2 0 s1\n",
      "8 3 0 s0\n",
      "8 3 0 s1\n",
      "8 4 0 s0\n",
      "8 4 0 s1\n",
      "8 5 0 s0\n",
      "8 5 0 s1\n",
      "8 6 0 s0\n",
      "8 6 0 s1\n",
      "8 7 0 s0\n",
      "8 7 0 s1\n",
      "8 8 0 s0\n",
      "8 8 0 s1\n",
      "9 0 0 s0\n",
      "9 0 0 s1\n",
      "9 1 0 s0\n",
      "9 1 0 s1\n",
      "9 2 0 s0\n",
      "9 2 0 s1\n",
      "9 3 0 s0\n",
      "9 3 0 s1\n",
      "9 4 0 s0\n",
      "9 4 0 s1\n",
      "9 5 0 s0\n",
      "9 5 0 s1\n",
      "9 6 0 s0\n",
      "9 6 0 s1\n",
      "9 7 0 s0\n",
      "9 7 0 s1\n",
      "9 8 0 s0\n",
      "9 8 0 s1\n"
     ]
    }
   ],
   "source": [
    "val_err_l1_2, _, _ = dp_l1_2.fit(\"cv_joint\")"
   ]
  },
  {
   "cell_type": "code",
   "execution_count": 89,
   "metadata": {
    "ExecuteTime": {
     "end_time": "2024-07-23T14:56:10.282908Z",
     "start_time": "2024-07-23T14:56:09.990761Z"
    }
   },
   "outputs": [
    {
     "data": {
      "image/png": "[encoded data removed]",
      "text/plain": [
       "<Figure size 640x480 with 1 Axes>"
      ]
     },
     "metadata": {},
     "output_type": "display_data"
    }
   ],
   "source": [
    "parameter_tuning.plot_error_1d(\n",
    "    val_err_l1_2.squeeze(), lambda_lst=l1_list_2, \n",
    "    # ymin=0.80, ymax=0.82,\n",
    ")"
   ]
  },
  {
   "cell_type": "code",
   "execution_count": 90,
   "metadata": {
    "ExecuteTime": {
     "end_time": "2024-07-23T14:56:14.948672Z",
     "start_time": "2024-07-23T14:56:14.937320Z"
    }
   },
   "outputs": [
    {
     "name": "stdout",
     "output_type": "stream",
     "text": [
      "0.24999999999999997\n"
     ]
    }
   ],
   "source": [
    "val_avg = np.mean(val_err_l1_2, axis=0)\n",
    "# val_std = np.std(val_err_l1_2, axis=0)\n",
    "l1_est = l1_list_2[np.argmin(val_avg)]\n",
    "print(l1_est)"
   ]
  },
  {
   "cell_type": "markdown",
   "metadata": {},
   "source": [
    "## Search for lambda2"
   ]
  },
  {
   "cell_type": "code",
   "execution_count": 91,
   "metadata": {
    "ExecuteTime": {
     "end_time": "2024-07-23T14:56:18.032648Z",
     "start_time": "2024-07-23T14:56:18.023367Z"
    }
   },
   "outputs": [],
   "source": [
    "l2_list = np.arange(0.025, 0.201, 0.025)"
   ]
  },
  {
   "cell_type": "code",
   "execution_count": 92,
   "metadata": {
    "ExecuteTime": {
     "end_time": "2024-07-23T14:56:21.546061Z",
     "start_time": "2024-07-23T14:56:21.536379Z"
    }
   },
   "outputs": [],
   "source": [
    "dp_l2_1 = parameter_tuning.DDNParameterSearch(\n",
    "    dat1,\n",
    "    dat2,\n",
    "    n_cv=10,\n",
    "    ratio_validation=0.5, \n",
    "    lambda1_list=[0.25, ],\n",
    "    lambda2_list=l2_list,\n",
    "    cores=cores,\n",
    "    cv_max_edge=cv_max_deg,\n",
    ")"
   ]
  },
  {
   "cell_type": "code",
   "execution_count": 93,
   "metadata": {
    "ExecuteTime": {
     "end_time": "2024-07-23T15:41:22.737166Z",
     "start_time": "2024-07-23T14:56:24.923477Z"
    }
   },
   "outputs": [
    {
     "name": "stdout",
     "output_type": "stream",
     "text": [
      "0 0 0 s0\n",
      "0 0 0 s1\n",
      "0 0 1 s0\n",
      "0 0 1 s1\n",
      "0 0 2 s0\n",
      "0 0 2 s1\n",
      "0 0 3 s0\n",
      "0 0 3 s1\n",
      "0 0 4 s0\n",
      "0 0 4 s1\n",
      "0 0 5 s0\n",
      "0 0 5 s1\n",
      "0 0 6 s0\n",
      "0 0 6 s1\n",
      "0 0 7 s0\n",
      "0 0 7 s1\n",
      "1 0 0 s0\n",
      "1 0 0 s1\n",
      "1 0 1 s0\n",
      "1 0 1 s1\n",
      "1 0 2 s0\n",
      "1 0 2 s1\n",
      "1 0 3 s0\n",
      "1 0 3 s1\n",
      "1 0 4 s0\n",
      "1 0 4 s1\n",
      "1 0 5 s0\n",
      "1 0 5 s1\n",
      "1 0 6 s0\n",
      "1 0 6 s1\n",
      "1 0 7 s0\n",
      "1 0 7 s1\n",
      "2 0 0 s0\n",
      "2 0 0 s1\n",
      "2 0 1 s0\n",
      "2 0 1 s1\n",
      "2 0 2 s0\n",
      "2 0 2 s1\n",
      "2 0 3 s0\n",
      "2 0 3 s1\n",
      "2 0 4 s0\n",
      "2 0 4 s1\n",
      "2 0 5 s0\n",
      "2 0 5 s1\n",
      "2 0 6 s0\n",
      "2 0 6 s1\n",
      "2 0 7 s0\n",
      "2 0 7 s1\n",
      "3 0 0 s0\n",
      "3 0 0 s1\n",
      "3 0 1 s0\n",
      "3 0 1 s1\n",
      "3 0 2 s0\n",
      "3 0 2 s1\n",
      "3 0 3 s0\n",
      "3 0 3 s1\n",
      "3 0 4 s0\n",
      "3 0 4 s1\n",
      "3 0 5 s0\n",
      "3 0 5 s1\n",
      "3 0 6 s0\n",
      "3 0 6 s1\n",
      "3 0 7 s0\n",
      "3 0 7 s1\n",
      "4 0 0 s0\n",
      "4 0 0 s1\n",
      "4 0 1 s0\n",
      "4 0 1 s1\n",
      "4 0 2 s0\n",
      "4 0 2 s1\n",
      "4 0 3 s0\n",
      "4 0 3 s1\n",
      "4 0 4 s0\n",
      "4 0 4 s1\n",
      "4 0 5 s0\n",
      "4 0 5 s1\n",
      "4 0 6 s0\n",
      "4 0 6 s1\n",
      "4 0 7 s0\n",
      "4 0 7 s1\n",
      "5 0 0 s0\n",
      "5 0 0 s1\n",
      "5 0 1 s0\n",
      "5 0 1 s1\n",
      "5 0 2 s0\n",
      "5 0 2 s1\n",
      "5 0 3 s0\n",
      "5 0 3 s1\n",
      "5 0 4 s0\n",
      "5 0 4 s1\n",
      "5 0 5 s0\n",
      "5 0 5 s1\n",
      "5 0 6 s0\n",
      "5 0 6 s1\n",
      "5 0 7 s0\n",
      "5 0 7 s1\n",
      "6 0 0 s0\n",
      "6 0 0 s1\n",
      "6 0 1 s0\n",
      "6 0 1 s1\n",
      "6 0 2 s0\n",
      "6 0 2 s1\n",
      "6 0 3 s0\n",
      "6 0 3 s1\n",
      "6 0 4 s0\n",
      "6 0 4 s1\n",
      "6 0 5 s0\n",
      "6 0 5 s1\n",
      "6 0 6 s0\n",
      "6 0 6 s1\n",
      "6 0 7 s0\n",
      "6 0 7 s1\n",
      "7 0 0 s0\n",
      "7 0 0 s1\n",
      "7 0 1 s0\n",
      "7 0 1 s1\n",
      "7 0 2 s0\n",
      "7 0 2 s1\n",
      "7 0 3 s0\n",
      "7 0 3 s1\n",
      "7 0 4 s0\n",
      "7 0 4 s1\n",
      "7 0 5 s0\n",
      "7 0 5 s1\n",
      "7 0 6 s0\n",
      "7 0 6 s1\n",
      "7 0 7 s0\n",
      "7 0 7 s1\n",
      "8 0 0 s0\n",
      "8 0 0 s1\n",
      "8 0 1 s0\n",
      "8 0 1 s1\n",
      "8 0 2 s0\n",
      "8 0 2 s1\n",
      "8 0 3 s0\n",
      "8 0 3 s1\n",
      "8 0 4 s0\n",
      "8 0 4 s1\n",
      "8 0 5 s0\n",
      "8 0 5 s1\n",
      "8 0 6 s0\n",
      "8 0 6 s1\n",
      "8 0 7 s0\n",
      "8 0 7 s1\n",
      "9 0 0 s0\n",
      "9 0 0 s1\n",
      "9 0 1 s0\n",
      "9 0 1 s1\n",
      "9 0 2 s0\n",
      "9 0 2 s1\n",
      "9 0 3 s0\n",
      "9 0 3 s1\n",
      "9 0 4 s0\n",
      "9 0 4 s1\n",
      "9 0 5 s0\n",
      "9 0 5 s1\n",
      "9 0 6 s0\n",
      "9 0 6 s1\n",
      "9 0 7 s0\n",
      "9 0 7 s1\n"
     ]
    }
   ],
   "source": [
    "val_err_l2_1, _, _ = dp_l2_1.fit(\"cv_joint\")"
   ]
  },
  {
   "cell_type": "code",
   "execution_count": 94,
   "metadata": {
    "ExecuteTime": {
     "end_time": "2024-07-23T15:43:04.454732Z",
     "start_time": "2024-07-23T15:43:04.199297Z"
    }
   },
   "outputs": [
    {
     "data": {
      "image/png": "[encoded data removed]",
      "text/plain": [
       "<Figure size 640x480 with 1 Axes>"
      ]
     },
     "metadata": {},
     "output_type": "display_data"
    }
   ],
   "source": [
    "parameter_tuning.plot_error_1d(val_err_l2_1.squeeze(), lambda_lst=l2_list)"
   ]
  },
  {
   "cell_type": "code",
   "execution_count": 95,
   "metadata": {
    "ExecuteTime": {
     "end_time": "2024-07-23T15:43:10.211574Z",
     "start_time": "2024-07-23T15:43:10.202715Z"
    }
   },
   "outputs": [
    {
     "name": "stdout",
     "output_type": "stream",
     "text": [
      "0.025\n"
     ]
    }
   ],
   "source": [
    "val_avg = np.mean(val_err_l2_1, axis=0)\n",
    "# val_std = np.std(val_err_l2_1, axis=0)\n",
    "l2_est = l2_list[np.argmin(val_avg)]\n",
    "print(l2_est)"
   ]
  },
  {
   "cell_type": "markdown",
   "metadata": {},
   "source": [
    "## Run DDN using the selected parameters"
   ]
  },
  {
   "cell_type": "code",
   "execution_count": null,
   "metadata": {},
   "outputs": [],
   "source": [
    "g_beta_est = ddn.ddn_parallel(\n",
    "    dat1,\n",
    "    dat2,\n",
    "    lambda1=0.275,\n",
    "    lambda2=0.1,\n",
    "    n_process=cores,\n",
    ")\n",
    "\n",
    "# Networks under two conditions\n",
    "g1_net_est = tools.get_net_topo_from_mat(g_beta_est[0])\n",
    "g2_net_est = tools.get_net_topo_from_mat(g_beta_est[1])"
   ]
  },
  {
   "cell_type": "code",
   "execution_count": null,
   "metadata": {},
   "outputs": [],
   "source": []
  }
 ],
 "metadata": {
  "kernelspec": {
   "display_name": "cam",
   "language": "python",
   "name": "python3"
  },
  "language_info": {
   "codemirror_mode": {
    "name": "ipython",
    "version": 3
   },
   "file_extension": ".py",
   "mimetype": "text/x-python",
   "name": "python",
   "nbconvert_exporter": "python",
   "pygments_lexer": "ipython3",
   "version": "3.12.8"
  }
 },
 "nbformat": 4,
 "nbformat_minor": 2
}

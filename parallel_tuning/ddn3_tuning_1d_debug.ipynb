{
 "cells": [
  {
   "cell_type": "markdown",
   "metadata": {},
   "source": [
    "# Tuning parameters"
   ]
  },
  {
   "cell_type": "code",
   "metadata": {},
   "source": [
    "from importlib import reload\n",
    "import numpy as np\n",
    "import pandas as pd\n",
    "import matplotlib.pyplot as plt\n",
    "from ddn3 import tools, ddn\n",
    "import parameter_tuning_parallel as parameter_tuning\n",
    "reload(parameter_tuning)"
   ],
   "outputs": [],
   "execution_count": null
  },
  {
   "cell_type": "code",
   "metadata": {},
   "source": [
    "# Put the three data in the same folder of this notebook\n",
    "dat_rna = pd.read_csv(\"sub.expr.rna.transport\", sep='\\s+', header=None).to_numpy()\n",
    "dat_ribo = pd.read_csv(\"sub.expr.ribo.transport\", sep='\\s+', header=None).to_numpy()\n",
    "dat_protein = pd.read_csv(\"sub.expr.protein.transport\", sep='\\s+', header=None).to_numpy()\n",
    "\n",
    "# The number of cores in the computer\n",
    "cores = 16"
   ],
   "outputs": [],
   "execution_count": null
  },
  {
   "metadata": {},
   "cell_type": "markdown",
   "source": "Three data pairs"
  },
  {
   "metadata": {},
   "cell_type": "code",
   "source": [
    "dat1 = dat_rna\n",
    "dat2 = dat_ribo\n",
    "\n",
    "cv_max_deg = np.zeros(dat1.shape[1]) + 200"
   ],
   "outputs": [],
   "execution_count": null
  },
  {
   "metadata": {},
   "cell_type": "markdown",
   "source": "## Debug"
  },
  {
   "metadata": {},
   "cell_type": "code",
   "source": [
    "ratio_val = 0.5\n",
    "lambda1 = 0.1\n",
    "lambda2 = 0.05\n",
    "\n",
    "n_node = dat1.shape[1]\n",
    "n1 = dat1.shape[0]\n",
    "n2 = dat2.shape[0]\n",
    "n1_val = int(n1 * ratio_val)\n",
    "n1_train = n1 - n1_val\n",
    "n2_val = int(n2 * ratio_val)\n",
    "n2_train = n2 - n2_val\n",
    "\n",
    "mthd = \"resi\"\n",
    "\n",
    "msk1 = np.zeros(n1)\n",
    "msk1[np.random.choice(n1, n1_train, replace=False)] = 1\n",
    "msk2 = np.zeros(n2)\n",
    "msk2[np.random.choice(n2, n2_train, replace=False)] = 1\n",
    "\n",
    "g1_train = tools.standardize_data(dat1[msk1 > 0])\n",
    "g1_val = tools.standardize_data(dat1[msk1 == 0])\n",
    "g2_train = tools.standardize_data(dat2[msk2 > 0])\n",
    "g2_val = tools.standardize_data(dat2[msk2 == 0])\n",
    "\n",
    "g_beta_est = ddn.ddn_parallel(\n",
    "    g1_train,\n",
    "    g2_train,\n",
    "    lambda1=lambda1,\n",
    "    lambda2=lambda2,\n",
    "    mthd=mthd,\n",
    "    n_process=cores,\n",
    ")\n"
   ],
   "outputs": [],
   "execution_count": null
  },
  {
   "metadata": {},
   "cell_type": "code",
   "source": "reload(parameter_tuning)",
   "outputs": [],
   "execution_count": null
  },
  {
   "metadata": {},
   "cell_type": "code",
   "source": [
    "g1_est = tools.get_net_topo_from_mat(g_beta_est[0])\n",
    "g2_est = tools.get_net_topo_from_mat(g_beta_est[1])\n",
    "\n",
    "g1_coef = parameter_tuning.calculate_regression(\n",
    "    g1_train, g1_est * g_beta_est[0], cores=cores, n_max=cv_max_deg\n",
    ")\n",
    "g1_coef[np.arange(n_node), np.arange(n_node)] = 0\n",
    "\n",
    "g2_coef = parameter_tuning.calculate_regression(\n",
    "    g2_train, g2_est * g_beta_est[1], cores=cores, n_max=cv_max_deg\n",
    ")\n",
    "g2_coef[np.arange(n_node), np.arange(n_node)] = 0\n",
    "\n",
    "rec_ratio1 = np.linalg.norm(\n",
    "    g1_val @ g1_coef.T - g1_val\n",
    ") / np.linalg.norm(g1_val)\n",
    "rec_ratio2 = np.linalg.norm(\n",
    "    g2_val @ g2_coef.T - g2_val\n",
    ") / np.linalg.norm(g2_val)\n",
    "if rec_ratio1 > 2.0 or rec_ratio2 > 2.0:\n",
    "    print(\"High rec error\")\n"
   ],
   "outputs": [],
   "execution_count": null
  },
  {
   "metadata": {},
   "cell_type": "code",
   "source": "np.max(np.abs(g1_coef))",
   "outputs": [],
   "execution_count": null
  },
  {
   "metadata": {},
   "cell_type": "code",
   "source": "np.linalg.norm(g1_val @ g1_coef.T - g1_val)",
   "outputs": [],
   "execution_count": null
  },
  {
   "metadata": {},
   "cell_type": "code",
   "source": "np.linalg.norm(g1_val)",
   "outputs": [],
   "execution_count": null
  }
 ],
 "metadata": {
  "kernelspec": {
   "display_name": "ai",
   "language": "python",
   "name": "python3"
  },
  "language_info": {
   "codemirror_mode": {
    "name": "ipython",
    "version": 3
   },
   "file_extension": ".py",
   "mimetype": "text/x-python",
   "name": "python",
   "nbconvert_exporter": "python",
   "pygments_lexer": "ipython3",
   "version": "3.11.7"
  }
 },
 "nbformat": 4,
 "nbformat_minor": 2
}

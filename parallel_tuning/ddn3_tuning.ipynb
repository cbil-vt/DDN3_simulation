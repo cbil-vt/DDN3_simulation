{
 "cells": [
  {
   "cell_type": "markdown",
   "metadata": {},
   "source": [
    "# Tuning parameters"
   ]
  },
  {
   "cell_type": "code",
   "metadata": {
    "ExecuteTime": {
     "end_time": "2024-07-19T16:50:17.384349Z",
     "start_time": "2024-07-19T16:50:17.354729Z"
    }
   },
   "source": [
    "from importlib import reload\n",
    "import numpy as np\n",
    "import pandas as pd\n",
    "import matplotlib.pyplot as plt\n",
    "from ddn3 import tools, ddn\n",
    "import parameter_tuning_parallel as parameter_tuning\n",
    "reload(parameter_tuning)"
   ],
   "outputs": [
    {
     "data": {
      "text/plain": [
       "<module 'parameter_tuning_parallel' from 'E:\\\\OneDrive - Virginia Tech\\\\x_code\\\\ddn\\\\try_exp\\\\data_qiuman\\\\parameter_tuning_parallel.py'>"
      ]
     },
     "execution_count": 27,
     "metadata": {},
     "output_type": "execute_result"
    }
   ],
   "execution_count": 27
  },
  {
   "cell_type": "code",
   "metadata": {
    "ExecuteTime": {
     "end_time": "2024-07-19T16:42:25.162466Z",
     "start_time": "2024-07-19T16:42:20.956286Z"
    }
   },
   "source": [
    "# Put the three data in the same folder of this notebooks\n",
    "dat_rna = pd.read_csv(\"sub.expr.rna.transport\", sep='\\s+', header=None).to_numpy()\n",
    "dat_ribo = pd.read_csv(\"sub.expr.ribo.transport\", sep='\\s+', header=None).to_numpy()\n",
    "dat_protein = pd.read_csv(\"sub.expr.protein.transport\", sep='\\s+', header=None).to_numpy()\n",
    "\n",
    "# The number of cores in the computer\n",
    "cores = 16"
   ],
   "outputs": [],
   "execution_count": 12
  },
  {
   "metadata": {},
   "cell_type": "markdown",
   "source": "Three data pairs"
  },
  {
   "metadata": {},
   "cell_type": "code",
   "source": [
    "dat1 = dat_rna\n",
    "dat2 = dat_ribo\n",
    "\n",
    "# dat1 = dat_rna\n",
    "# dat2 = dat_protein\n",
    "\n",
    "# dat1 = dat_ribo\n",
    "# dat2 = dat_protein"
   ],
   "outputs": [],
   "execution_count": null
  },
  {
   "metadata": {},
   "cell_type": "markdown",
   "source": [
    "## Try DDN first\n",
    "Limit the number of edges used in CV for each node.  \n",
    "Too dense graph lead to very slow regression calculation for large networks."
   ]
  },
  {
   "metadata": {},
   "cell_type": "code",
   "source": [
    "g_beta_est = ddn.ddn_parallel(\n",
    "    dat1,\n",
    "    dat2,\n",
    "    lambda1=0.25,\n",
    "    lambda2=0.075,\n",
    "    n_process=16,\n",
    ")\n",
    "g1_net_est = tools.get_net_topo_from_mat(g_beta_est[0])\n",
    "g2_net_est = tools.get_net_topo_from_mat(g_beta_est[1])"
   ],
   "outputs": [],
   "execution_count": null
  },
  {
   "metadata": {},
   "cell_type": "markdown",
   "source": "Degree distribution"
  },
  {
   "metadata": {
    "ExecuteTime": {
     "end_time": "2024-07-19T16:38:57.840538Z",
     "start_time": "2024-07-19T16:38:57.441280Z"
    }
   },
   "cell_type": "code",
   "source": [
    "deg1 = np.sum(g1_net_est, axis=1)\n",
    "_ = plt.hist(deg1, bins=50)"
   ],
   "outputs": [
    {
     "data": {
      "text/plain": [
       "<Figure size 640x480 with 1 Axes>"
      ],
      "image/png": "[encoded data removed]"
     },
     "metadata": {},
     "output_type": "display_data"
    }
   ],
   "execution_count": 11
  },
  {
   "metadata": {},
   "cell_type": "markdown",
   "source": "For node with low degrees, set to allow 25 edges."
  },
  {
   "metadata": {
    "ExecuteTime": {
     "end_time": "2024-07-19T16:43:57.735865Z",
     "start_time": "2024-07-19T16:43:57.726230Z"
    }
   },
   "cell_type": "code",
   "source": [
    "cv_max_deg = np.copy(deg1)\n",
    "cv_max_deg[cv_max_deg<25] = 25"
   ],
   "outputs": [],
   "execution_count": 17
  },
  {
   "metadata": {},
   "cell_type": "markdown",
   "source": "## First round of search"
  },
  {
   "cell_type": "code",
   "metadata": {
    "ExecuteTime": {
     "end_time": "2024-07-19T16:50:21.910517Z",
     "start_time": "2024-07-19T16:50:21.884681Z"
    }
   },
   "source": [
    "reload(parameter_tuning)\n",
    "dp = parameter_tuning.DDNParameterSearch(\n",
    "    dat1, dat2, \n",
    "    n_cv=5,\n",
    "    ratio_validation=0.5, \n",
    "    lambda1_list=np.arange(0.1, 0.805, 0.1),\n",
    "    lambda2_list=np.arange(0.0, 0.205, 0.05),\n",
    "    cores=cores,\n",
    "    cv_max_edge=cv_max_deg,\n",
    ")"
   ],
   "outputs": [],
   "execution_count": 28
  },
  {
   "cell_type": "code",
   "metadata": {
    "ExecuteTime": {
     "end_time": "2024-07-19T18:24:17.705075Z",
     "start_time": "2024-07-19T16:50:28.633018Z"
    }
   },
   "source": [
    "val_err_0, _, _ = dp.fit(\"cv_joint\")"
   ],
   "outputs": [
    {
     "name": "stdout",
     "output_type": "stream",
     "text": [
      "0 0 0 s0\n",
      "0 0 0 s1\n",
      "0 0 1 s0\n",
      "0 0 1 s1\n",
      "0 0 2 s0\n",
      "0 0 2 s1\n",
      "0 0 3 s0\n",
      "0 0 3 s1\n",
      "0 0 4 s0\n",
      "0 0 4 s1\n",
      "0 1 0 s0\n",
      "0 1 0 s1\n",
      "0 1 1 s0\n",
      "0 1 1 s1\n",
      "0 1 2 s0\n",
      "0 1 2 s1\n",
      "0 1 3 s0\n",
      "0 1 3 s1\n",
      "0 1 4 s0\n",
      "0 1 4 s1\n",
      "0 2 0 s0\n",
      "0 2 0 s1\n",
      "0 2 1 s0\n",
      "0 2 1 s1\n",
      "0 2 2 s0\n",
      "0 2 2 s1\n",
      "0 2 3 s0\n",
      "0 2 3 s1\n",
      "0 2 4 s0\n",
      "0 2 4 s1\n",
      "0 3 0 s0\n",
      "0 3 0 s1\n",
      "0 3 1 s0\n",
      "0 3 1 s1\n",
      "0 3 2 s0\n",
      "0 3 2 s1\n",
      "0 3 3 s0\n",
      "0 3 3 s1\n",
      "0 3 4 s0\n",
      "0 3 4 s1\n",
      "0 4 0 s0\n",
      "0 4 0 s1\n",
      "0 4 1 s0\n",
      "0 4 1 s1\n",
      "0 4 2 s0\n",
      "0 4 2 s1\n",
      "0 4 3 s0\n",
      "0 4 3 s1\n",
      "0 4 4 s0\n",
      "0 4 4 s1\n",
      "0 5 0 s0\n",
      "0 5 0 s1\n",
      "0 5 1 s0\n",
      "0 5 1 s1\n",
      "0 5 2 s0\n",
      "0 5 2 s1\n",
      "0 5 3 s0\n",
      "0 5 3 s1\n",
      "0 5 4 s0\n",
      "0 5 4 s1\n",
      "0 6 0 s0\n",
      "0 6 0 s1\n",
      "0 6 1 s0\n",
      "0 6 1 s1\n",
      "0 6 2 s0\n",
      "0 6 2 s1\n",
      "0 6 3 s0\n",
      "0 6 3 s1\n",
      "0 6 4 s0\n",
      "0 6 4 s1\n",
      "0 7 0 s0\n",
      "0 7 0 s1\n",
      "0 7 1 s0\n",
      "0 7 1 s1\n",
      "0 7 2 s0\n",
      "0 7 2 s1\n",
      "0 7 3 s0\n",
      "0 7 3 s1\n",
      "0 7 4 s0\n",
      "0 7 4 s1\n",
      "1 0 0 s0\n",
      "1 0 0 s1\n",
      "1 0 1 s0\n",
      "1 0 1 s1\n",
      "1 0 2 s0\n",
      "1 0 2 s1\n",
      "1 0 3 s0\n",
      "1 0 3 s1\n",
      "1 0 4 s0\n",
      "1 0 4 s1\n",
      "1 1 0 s0\n",
      "1 1 0 s1\n",
      "1 1 1 s0\n",
      "1 1 1 s1\n",
      "1 1 2 s0\n",
      "1 1 2 s1\n",
      "1 1 3 s0\n",
      "1 1 3 s1\n",
      "1 1 4 s0\n",
      "1 1 4 s1\n",
      "1 2 0 s0\n",
      "1 2 0 s1\n",
      "1 2 1 s0\n",
      "1 2 1 s1\n",
      "1 2 2 s0\n",
      "1 2 2 s1\n",
      "1 2 3 s0\n",
      "1 2 3 s1\n",
      "1 2 4 s0\n",
      "1 2 4 s1\n",
      "1 3 0 s0\n",
      "1 3 0 s1\n",
      "1 3 1 s0\n",
      "1 3 1 s1\n",
      "1 3 2 s0\n",
      "1 3 2 s1\n",
      "1 3 3 s0\n",
      "1 3 3 s1\n",
      "1 3 4 s0\n",
      "1 3 4 s1\n",
      "1 4 0 s0\n",
      "1 4 0 s1\n",
      "1 4 1 s0\n",
      "1 4 1 s1\n",
      "1 4 2 s0\n",
      "1 4 2 s1\n",
      "1 4 3 s0\n",
      "1 4 3 s1\n",
      "1 4 4 s0\n",
      "1 4 4 s1\n",
      "1 5 0 s0\n",
      "1 5 0 s1\n",
      "1 5 1 s0\n",
      "1 5 1 s1\n",
      "1 5 2 s0\n",
      "1 5 2 s1\n",
      "1 5 3 s0\n",
      "1 5 3 s1\n",
      "1 5 4 s0\n",
      "1 5 4 s1\n",
      "1 6 0 s0\n",
      "1 6 0 s1\n",
      "1 6 1 s0\n",
      "1 6 1 s1\n",
      "1 6 2 s0\n",
      "1 6 2 s1\n",
      "1 6 3 s0\n",
      "1 6 3 s1\n",
      "1 6 4 s0\n",
      "1 6 4 s1\n",
      "1 7 0 s0\n",
      "1 7 0 s1\n",
      "1 7 1 s0\n",
      "1 7 1 s1\n",
      "1 7 2 s0\n",
      "1 7 2 s1\n",
      "1 7 3 s0\n",
      "1 7 3 s1\n",
      "1 7 4 s0\n",
      "1 7 4 s1\n",
      "2 0 0 s0\n",
      "2 0 0 s1\n",
      "2 0 1 s0\n",
      "2 0 1 s1\n",
      "2 0 2 s0\n",
      "2 0 2 s1\n",
      "2 0 3 s0\n",
      "2 0 3 s1\n",
      "2 0 4 s0\n",
      "2 0 4 s1\n",
      "2 1 0 s0\n",
      "2 1 0 s1\n",
      "2 1 1 s0\n",
      "2 1 1 s1\n",
      "2 1 2 s0\n",
      "2 1 2 s1\n",
      "2 1 3 s0\n",
      "2 1 3 s1\n",
      "2 1 4 s0\n",
      "2 1 4 s1\n",
      "2 2 0 s0\n",
      "2 2 0 s1\n",
      "2 2 1 s0\n",
      "2 2 1 s1\n",
      "2 2 2 s0\n",
      "2 2 2 s1\n",
      "2 2 3 s0\n",
      "2 2 3 s1\n",
      "2 2 4 s0\n",
      "2 2 4 s1\n",
      "2 3 0 s0\n",
      "2 3 0 s1\n",
      "2 3 1 s0\n",
      "2 3 1 s1\n",
      "2 3 2 s0\n",
      "2 3 2 s1\n",
      "2 3 3 s0\n",
      "2 3 3 s1\n",
      "2 3 4 s0\n",
      "2 3 4 s1\n",
      "2 4 0 s0\n",
      "2 4 0 s1\n",
      "2 4 1 s0\n",
      "2 4 1 s1\n",
      "2 4 2 s0\n",
      "2 4 2 s1\n",
      "2 4 3 s0\n",
      "2 4 3 s1\n",
      "2 4 4 s0\n",
      "2 4 4 s1\n",
      "2 5 0 s0\n",
      "2 5 0 s1\n",
      "2 5 1 s0\n",
      "2 5 1 s1\n",
      "2 5 2 s0\n",
      "2 5 2 s1\n",
      "2 5 3 s0\n",
      "2 5 3 s1\n",
      "2 5 4 s0\n",
      "2 5 4 s1\n",
      "2 6 0 s0\n",
      "2 6 0 s1\n",
      "2 6 1 s0\n",
      "2 6 1 s1\n",
      "2 6 2 s0\n",
      "2 6 2 s1\n",
      "2 6 3 s0\n",
      "2 6 3 s1\n",
      "2 6 4 s0\n",
      "2 6 4 s1\n",
      "2 7 0 s0\n",
      "2 7 0 s1\n",
      "2 7 1 s0\n",
      "2 7 1 s1\n",
      "2 7 2 s0\n",
      "2 7 2 s1\n",
      "2 7 3 s0\n",
      "2 7 3 s1\n",
      "2 7 4 s0\n",
      "2 7 4 s1\n",
      "3 0 0 s0\n",
      "3 0 0 s1\n",
      "3 0 1 s0\n",
      "3 0 1 s1\n",
      "3 0 2 s0\n",
      "3 0 2 s1\n",
      "3 0 3 s0\n",
      "3 0 3 s1\n",
      "3 0 4 s0\n",
      "3 0 4 s1\n",
      "3 1 0 s0\n",
      "3 1 0 s1\n",
      "3 1 1 s0\n",
      "3 1 1 s1\n",
      "3 1 2 s0\n",
      "3 1 2 s1\n",
      "3 1 3 s0\n",
      "3 1 3 s1\n",
      "3 1 4 s0\n",
      "3 1 4 s1\n",
      "3 2 0 s0\n",
      "3 2 0 s1\n",
      "3 2 1 s0\n",
      "3 2 1 s1\n",
      "3 2 2 s0\n",
      "3 2 2 s1\n",
      "3 2 3 s0\n",
      "3 2 3 s1\n",
      "3 2 4 s0\n",
      "3 2 4 s1\n",
      "3 3 0 s0\n",
      "3 3 0 s1\n",
      "3 3 1 s0\n",
      "3 3 1 s1\n",
      "3 3 2 s0\n",
      "3 3 2 s1\n",
      "3 3 3 s0\n",
      "3 3 3 s1\n",
      "3 3 4 s0\n",
      "3 3 4 s1\n",
      "3 4 0 s0\n",
      "3 4 0 s1\n",
      "3 4 1 s0\n",
      "3 4 1 s1\n",
      "3 4 2 s0\n",
      "3 4 2 s1\n",
      "3 4 3 s0\n",
      "3 4 3 s1\n",
      "3 4 4 s0\n",
      "3 4 4 s1\n",
      "3 5 0 s0\n",
      "3 5 0 s1\n",
      "3 5 1 s0\n",
      "3 5 1 s1\n",
      "3 5 2 s0\n",
      "3 5 2 s1\n",
      "3 5 3 s0\n",
      "3 5 3 s1\n",
      "3 5 4 s0\n",
      "3 5 4 s1\n",
      "3 6 0 s0\n",
      "3 6 0 s1\n",
      "3 6 1 s0\n",
      "3 6 1 s1\n",
      "3 6 2 s0\n",
      "3 6 2 s1\n",
      "3 6 3 s0\n",
      "3 6 3 s1\n",
      "3 6 4 s0\n",
      "3 6 4 s1\n",
      "3 7 0 s0\n",
      "3 7 0 s1\n",
      "3 7 1 s0\n",
      "3 7 1 s1\n",
      "3 7 2 s0\n",
      "3 7 2 s1\n",
      "3 7 3 s0\n",
      "3 7 3 s1\n",
      "3 7 4 s0\n",
      "3 7 4 s1\n",
      "4 0 0 s0\n",
      "4 0 0 s1\n",
      "4 0 1 s0\n",
      "4 0 1 s1\n",
      "4 0 2 s0\n",
      "4 0 2 s1\n",
      "4 0 3 s0\n",
      "4 0 3 s1\n",
      "4 0 4 s0\n",
      "4 0 4 s1\n",
      "4 1 0 s0\n",
      "4 1 0 s1\n",
      "4 1 1 s0\n",
      "4 1 1 s1\n",
      "4 1 2 s0\n",
      "4 1 2 s1\n",
      "4 1 3 s0\n",
      "4 1 3 s1\n",
      "4 1 4 s0\n",
      "4 1 4 s1\n",
      "4 2 0 s0\n",
      "4 2 0 s1\n",
      "4 2 1 s0\n",
      "4 2 1 s1\n",
      "4 2 2 s0\n",
      "4 2 2 s1\n",
      "4 2 3 s0\n",
      "4 2 3 s1\n",
      "4 2 4 s0\n",
      "4 2 4 s1\n",
      "4 3 0 s0\n",
      "4 3 0 s1\n",
      "4 3 1 s0\n",
      "4 3 1 s1\n",
      "4 3 2 s0\n",
      "4 3 2 s1\n",
      "4 3 3 s0\n",
      "4 3 3 s1\n",
      "4 3 4 s0\n",
      "4 3 4 s1\n",
      "4 4 0 s0\n",
      "4 4 0 s1\n",
      "4 4 1 s0\n",
      "4 4 1 s1\n",
      "4 4 2 s0\n",
      "4 4 2 s1\n",
      "4 4 3 s0\n",
      "4 4 3 s1\n",
      "4 4 4 s0\n",
      "4 4 4 s1\n",
      "4 5 0 s0\n",
      "4 5 0 s1\n",
      "4 5 1 s0\n",
      "4 5 1 s1\n",
      "4 5 2 s0\n",
      "4 5 2 s1\n",
      "4 5 3 s0\n",
      "4 5 3 s1\n",
      "4 5 4 s0\n",
      "4 5 4 s1\n",
      "4 6 0 s0\n",
      "4 6 0 s1\n",
      "4 6 1 s0\n",
      "4 6 1 s1\n",
      "4 6 2 s0\n",
      "4 6 2 s1\n",
      "4 6 3 s0\n",
      "4 6 3 s1\n",
      "4 6 4 s0\n",
      "4 6 4 s1\n",
      "4 7 0 s0\n",
      "4 7 0 s1\n",
      "4 7 1 s0\n",
      "4 7 1 s1\n",
      "4 7 2 s0\n",
      "4 7 2 s1\n",
      "4 7 3 s0\n",
      "4 7 3 s1\n",
      "4 7 4 s0\n",
      "4 7 4 s1\n"
     ]
    }
   ],
   "execution_count": 29
  },
  {
   "metadata": {},
   "cell_type": "markdown",
   "source": "The output (val_err_0) is of shape (number of CV, number of lambda1, number of lambda2)"
  },
  {
   "metadata": {
    "ExecuteTime": {
     "end_time": "2024-07-20T01:46:21.394209Z",
     "start_time": "2024-07-20T01:46:21.381898Z"
    }
   },
   "cell_type": "code",
   "source": "val_err_0[0]",
   "outputs": [
    {
     "data": {
      "text/plain": [
       "array([[0.87083615, 0.8457203 , 1.10956998, 0.88257747, 3.2925744 ],\n",
       "       [0.82161246, 0.81495639, 0.81769174, 0.82250501, 0.82432748],\n",
       "       [0.81442281, 0.81105592, 0.80949111, 0.81241205, 0.81586015],\n",
       "       [0.82401549, 0.82855312, 0.83228226, 0.83872212, 0.84359031],\n",
       "       [0.85150205, 0.86701744, 0.88077834, 0.89210462, 0.9003436 ],\n",
       "       [0.89816222, 0.91998174, 0.93700189, 0.94936364, 0.95480318],\n",
       "       [0.94835204, 0.96710596, 0.97826116, 0.98360676, 0.98689006],\n",
       "       [0.98196361, 0.98891389, 0.99351913, 0.99775915, 0.99876107]])"
      ]
     },
     "execution_count": 35,
     "metadata": {},
     "output_type": "execute_result"
    }
   ],
   "execution_count": 35
  },
  {
   "metadata": {
    "ExecuteTime": {
     "end_time": "2024-07-20T01:46:46.186303Z",
     "start_time": "2024-07-20T01:46:46.177173Z"
    }
   },
   "cell_type": "code",
   "source": "# np.arange(0.1, 0.805, 0.1)",
   "outputs": [],
   "execution_count": 37
  },
  {
   "cell_type": "code",
   "metadata": {},
   "source": "parameter_tuning.plot_error_2d(val_err_0, cmin=0.0, cmax=1.0)",
   "outputs": [],
   "execution_count": null
  },
  {
   "metadata": {},
   "cell_type": "code",
   "source": "np.mean(val_err_0, axis=0)",
   "outputs": [],
   "execution_count": null
  },
  {
   "metadata": {},
   "cell_type": "code",
   "source": "np.std(val_err_0, axis=0)",
   "outputs": [],
   "execution_count": null
  },
  {
   "metadata": {},
   "cell_type": "markdown",
   "source": "## Second round of search"
  },
  {
   "metadata": {},
   "cell_type": "code",
   "source": [
    "dp1 = parameter_tuning.DDNParameterSearch(\n",
    "    dat1, dat2,\n",
    "    n_cv=5,\n",
    "    ratio_validation=0.5, \n",
    "    lambda1_list=np.arange(0.1, 0.401, 0.05),\n",
    "    lambda2_list=np.arange(0.05, 0.151, 0.025),\n",
    "    cores=cores,\n",
    "    cv_max_edge=cv_max_deg,\n",
    ")"
   ],
   "outputs": [],
   "execution_count": null
  },
  {
   "metadata": {},
   "cell_type": "code",
   "source": "val_err_1, _, _ = dp1.fit(\"cv_joint\")",
   "outputs": [],
   "execution_count": null
  },
  {
   "metadata": {},
   "cell_type": "code",
   "source": "parameter_tuning.plot_error_2d(val_err_1)",
   "outputs": [],
   "execution_count": null
  },
  {
   "metadata": {},
   "cell_type": "code",
   "source": "np.mean(val_err_1, axis=0)",
   "outputs": [],
   "execution_count": null
  },
  {
   "metadata": {},
   "cell_type": "code",
   "source": "np.std(val_err_1, axis=0)",
   "outputs": [],
   "execution_count": null
  },
  {
   "metadata": {},
   "cell_type": "code",
   "source": "",
   "outputs": [],
   "execution_count": null
  },
  {
   "metadata": {},
   "cell_type": "markdown",
   "source": "## Save results"
  },
  {
   "metadata": {},
   "cell_type": "code",
   "source": [
    "if 0:\n",
    "    np.savez(\"joint_search_rna_protein_n_20.npz\", \n",
    "             err_0=val_err_0, \n",
    "             err_1=val_err_1, \n",
    "             l1_0=np.arange(0.1, 0.805, 0.1),\n",
    "             l2_0=np.arange(0.0, 0.205, 0.05),\n",
    "             l1_1=np.arange(0.1, 0.401, 0.05),\n",
    "             l2_1=np.arange(0.05, 0.151, 0.025),         \n",
    "    )\n"
   ],
   "outputs": [],
   "execution_count": null
  }
 ],
 "metadata": {
  "kernelspec": {
   "display_name": "ai",
   "language": "python",
   "name": "python3"
  },
  "language_info": {
   "codemirror_mode": {
    "name": "ipython",
    "version": 3
   },
   "file_extension": ".py",
   "mimetype": "text/x-python",
   "name": "python",
   "nbconvert_exporter": "python",
   "pygments_lexer": "ipython3",
   "version": "3.11.7"
  }
 },
 "nbformat": 4,
 "nbformat_minor": 2
}

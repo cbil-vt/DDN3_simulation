{
 "cells": [
  {
   "cell_type": "markdown",
   "metadata": {},
   "source": "# Imbalanced sample null simulation"
  },
  {
   "cell_type": "code",
   "metadata": {
    "ExecuteTime": {
     "end_time": "2024-05-06T14:26:39.928238Z",
     "start_time": "2024-05-06T14:26:39.850110Z"
    }
   },
   "source": [
    "import numpy as np\n",
    "import matplotlib.pyplot as plt\n",
    "from ddn3 import simulation, tools\n",
    "from ddn3 import ddn as ddn_new\n",
    "from ddn2 import ddn as ddn_old\n",
    "from ddn3_extra import simulation_r\n",
    "\n",
    "%load_ext autoreload\n",
    "%autoreload 2\n"
   ],
   "outputs": [
    {
     "name": "stdout",
     "output_type": "stream",
     "text": [
      "The autoreload extension is already loaded. To reload it, use:\n",
      "  %reload_ext autoreload\n"
     ]
    }
   ],
   "execution_count": 117
  },
  {
   "metadata": {
    "ExecuteTime": {
     "end_time": "2024-05-06T14:26:40.011657Z",
     "start_time": "2024-05-06T14:26:39.928238Z"
    }
   },
   "cell_type": "code",
   "source": [
    "def scan_ddn(\n",
    "    dat1, dat2, lambda1_rg, lambda2, use_new=True,\n",
    "):\n",
    "    t1_lst = []\n",
    "    t2_lst = []\n",
    "    for i, lamb in enumerate(lambda1_rg):\n",
    "        print(lamb)\n",
    "        if use_new:\n",
    "            out_ddn = ddn_new.ddn(\n",
    "                dat1, dat2, lambda1=lamb, lambda2=lambda2, threshold=1e-5, mthd='resi'\n",
    "            )\n",
    "        else:\n",
    "            out_ddn = ddn_old.ddn(\n",
    "                dat1, dat2, lambda1=lamb, lambda2=lambda2, threshold=1e-5, mthd='resi'\n",
    "            )  \n",
    "        t1_lst.append(np.copy(out_ddn[0]))\n",
    "        t2_lst.append(np.copy(out_ddn[1]))\n",
    "    return t1_lst, t2_lst\n",
    "\n",
    "\n",
    "def cnt_edges(t1_lst, t2_lst):\n",
    "    n_l1 = len(t1_lst)\n",
    "    cnt_arr = np.zeros((n_l1, 2))\n",
    "    for n in range(n_l1):\n",
    "        t1 = t1_lst[n]\n",
    "        t2 = t2_lst[n]\n",
    "        m1 = tools.get_net_topo_from_mat(t1)\n",
    "        m2 = tools.get_net_topo_from_mat(t2)\n",
    "        cnt_arr[n, 0] = np.sum(m1)/2\n",
    "        cnt_arr[n, 1] = np.sum(m2)/2\n",
    "    return cnt_arr\n"
   ],
   "outputs": [],
   "execution_count": 118
  },
  {
   "metadata": {
    "ExecuteTime": {
     "end_time": "2024-05-06T14:26:40.261559Z",
     "start_time": "2024-05-06T14:26:40.011657Z"
    }
   },
   "cell_type": "code",
   "source": [
    "omega, _, _ = simulation_r.huge_omega(\n",
    "    n_node=50, ratio_diff=0.25, graph_type='scale-free',\n",
    ")\n",
    "\n",
    "g1_cov, _, comm_gt, _ = simulation.prep_sim_from_two_omega(\n",
    "    omega, omega\n",
    ")\n",
    "print(np.sum(comm_gt/2))\n",
    "\n",
    "n1 = 200\n",
    "n2 = 250\n",
    "dat1, dat2 = simulation.gen_sample_two_conditions(g1_cov, g1_cov, n1, n2)"
   ],
   "outputs": [
    {
     "name": "stdout",
     "output_type": "stream",
     "text": [
      "49.0\n"
     ]
    }
   ],
   "execution_count": 119
  },
  {
   "metadata": {
    "ExecuteTime": {
     "end_time": "2024-05-06T14:26:40.370907Z",
     "start_time": "2024-05-06T14:26:40.261559Z"
    }
   },
   "cell_type": "code",
   "source": "print(dat1.shape, dat2.shape)",
   "outputs": [
    {
     "name": "stdout",
     "output_type": "stream",
     "text": [
      "(200, 50) (250, 50)\n"
     ]
    }
   ],
   "execution_count": 120
  },
  {
   "metadata": {},
   "cell_type": "markdown",
   "source": "Run DDN2 and DDN3"
  },
  {
   "metadata": {
    "ExecuteTime": {
     "end_time": "2024-05-06T14:26:41.976901Z",
     "start_time": "2024-05-06T14:26:40.370907Z"
    }
   },
   "cell_type": "code",
   "source": [
    "l1_lst = np.arange(0.02, 1.0, 0.02)\n",
    "l2 = 0.0\n",
    "\n",
    "t1_lst_old, t2_lst_old = scan_ddn(dat1, dat2, l1_lst, l2, use_new=False)\n",
    "t1_lst_new, t2_lst_new = scan_ddn(dat1, dat2, l1_lst, l2, use_new=True)\n",
    "cnt_old = cnt_edges(t1_lst_old, t2_lst_old)\n",
    "cnt_new = cnt_edges(t1_lst_new, t2_lst_new)\n"
   ],
   "outputs": [
    {
     "name": "stdout",
     "output_type": "stream",
     "text": [
      "0.02\n",
      "0.04\n",
      "0.06\n",
      "0.08\n",
      "0.1\n",
      "0.12000000000000001\n",
      "0.13999999999999999\n",
      "0.16\n",
      "0.18\n",
      "0.19999999999999998\n",
      "0.22\n",
      "0.24\n",
      "0.26\n",
      "0.28\n",
      "0.30000000000000004\n",
      "0.32\n",
      "0.34\n",
      "0.36000000000000004\n",
      "0.38\n",
      "0.4\n",
      "0.42000000000000004\n",
      "0.44\n",
      "0.46\n",
      "0.48000000000000004\n",
      "0.5\n",
      "0.52\n",
      "0.54\n",
      "0.56\n",
      "0.5800000000000001\n",
      "0.6\n",
      "0.62\n",
      "0.64\n",
      "0.66\n",
      "0.68\n",
      "0.7000000000000001\n",
      "0.7200000000000001\n",
      "0.74\n",
      "0.76\n",
      "0.78\n",
      "0.8\n",
      "0.8200000000000001\n",
      "0.8400000000000001\n",
      "0.86\n",
      "0.88\n",
      "0.9\n",
      "0.92\n",
      "0.9400000000000001\n",
      "0.9600000000000001\n",
      "0.98\n",
      "0.02\n",
      "0.04\n",
      "0.06\n",
      "0.08\n",
      "0.1\n",
      "0.12000000000000001\n",
      "0.13999999999999999\n",
      "0.16\n",
      "0.18\n",
      "0.19999999999999998\n",
      "0.22\n",
      "0.24\n",
      "0.26\n",
      "0.28\n",
      "0.30000000000000004\n",
      "0.32\n",
      "0.34\n",
      "0.36000000000000004\n",
      "0.38\n",
      "0.4\n",
      "0.42000000000000004\n",
      "0.44\n",
      "0.46\n",
      "0.48000000000000004\n",
      "0.5\n",
      "0.52\n",
      "0.54\n",
      "0.56\n",
      "0.5800000000000001\n",
      "0.6\n",
      "0.62\n",
      "0.64\n",
      "0.66\n",
      "0.68\n",
      "0.7000000000000001\n",
      "0.7200000000000001\n",
      "0.74\n",
      "0.76\n",
      "0.78\n",
      "0.8\n",
      "0.8200000000000001\n",
      "0.8400000000000001\n",
      "0.86\n",
      "0.88\n",
      "0.9\n",
      "0.92\n",
      "0.9400000000000001\n",
      "0.9600000000000001\n",
      "0.98\n"
     ]
    }
   ],
   "execution_count": 121
  },
  {
   "metadata": {
    "ExecuteTime": {
     "end_time": "2024-05-06T14:26:42.212380Z",
     "start_time": "2024-05-06T14:26:41.976901Z"
    }
   },
   "cell_type": "code",
   "source": [
    "plt.plot(l1_lst, cnt_old)\n",
    "plt.ylim([0, 200])\n",
    "plt.xlabel('lambda 1')\n",
    "plt.ylabel('Edge count')\n",
    "plt.legend(['Condition 1', 'Condition 2'])"
   ],
   "outputs": [
    {
     "data": {
      "text/plain": [
       "<matplotlib.legend.Legend at 0x18460ad7d90>"
      ]
     },
     "execution_count": 122,
     "metadata": {},
     "output_type": "execute_result"
    },
    {
     "data": {
      "text/plain": [
       "<Figure size 640x480 with 1 Axes>"
      ],
      "image/png": "[encoded data removed]"
     },
     "metadata": {},
     "output_type": "display_data"
    }
   ],
   "execution_count": 122
  },
  {
   "metadata": {
    "ExecuteTime": {
     "end_time": "2024-05-06T14:26:42.446699Z",
     "start_time": "2024-05-06T14:26:42.212380Z"
    }
   },
   "cell_type": "code",
   "source": [
    "plt.plot(l1_lst, cnt_new)\n",
    "plt.ylim([0, 200])\n",
    "plt.xlabel('lambda 1')\n",
    "plt.ylabel('Edge count')\n",
    "plt.legend(['Condition 1', 'Condition 2'])"
   ],
   "outputs": [
    {
     "data": {
      "text/plain": [
       "<matplotlib.legend.Legend at 0x18460ca7130>"
      ]
     },
     "execution_count": 123,
     "metadata": {},
     "output_type": "execute_result"
    },
    {
     "data": {
      "text/plain": [
       "<Figure size 640x480 with 1 Axes>"
      ],
      "image/png": "[encoded data removed]"
     },
     "metadata": {},
     "output_type": "display_data"
    }
   ],
   "execution_count": 123
  }
 ],
 "metadata": {
  "kernelspec": {
   "display_name": "ai",
   "language": "python",
   "name": "python3"
  },
  "language_info": {
   "codemirror_mode": {
    "name": "ipython",
    "version": 3
   },
   "file_extension": ".py",
   "mimetype": "text/x-python",
   "name": "python",
   "nbconvert_exporter": "python",
   "pygments_lexer": "ipython3",
   "version": "3.11.7"
  }
 },
 "nbformat": 4,
 "nbformat_minor": 2
}
